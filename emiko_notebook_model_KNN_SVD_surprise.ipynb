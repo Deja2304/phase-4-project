{
 "cells": [
  {
   "cell_type": "code",
   "execution_count": 1,
   "metadata": {},
   "outputs": [],
   "source": [
    "import pandas as pd\n",
    "import numpy as np\n",
    "import matplotlib.pyplot as plt\n",
    "%matplotlib inline\n",
    "\n",
    "#from sklearn import cross_validation as cv\n",
    "\n",
    "from scipy.sparse import csr_matrix\n",
    "from sklearn.neighbors import NearestNeighbors\n",
    "\n",
    "from surprise.prediction_algorithms import knns\n",
    "from surprise.similarities import cosine, msd, pearson\n",
    "from surprise import accuracy\n",
    "from surprise import Reader, Dataset\n",
    "from surprise.model_selection import train_test_split, cross_validate, GridSearchCV\n",
    "from surprise.prediction_algorithms import KNNWithMeans, KNNBasic, KNNBaseline, SVD, NMF\n",
    "import warnings"
   ]
  },
  {
   "cell_type": "code",
   "execution_count": 2,
   "metadata": {},
   "outputs": [],
   "source": [
    "# read master data\n",
    "master = pd.read_csv('Data/master.csv')\n",
    "\n",
    "# Drop unnecessary columns\n",
    "master_1 = master.loc[:, ['movieId', 'userId', 'rating']]\n",
    "master_1.drop_duplicates(inplace=True)"
   ]
  },
  {
   "cell_type": "markdown",
   "metadata": {},
   "source": [
    "## Collaborative filtering \n",
    "\n",
    "1. KNN with scipy sparse matrix \n",
    "2. KNN-KNNBasic, KNNMeans, KNNBasline (with surprise)\n",
    "3. Matrix Factorization- SVD (with surpise)"
   ]
  },
  {
   "cell_type": "code",
   "execution_count": null,
   "metadata": {},
   "outputs": [],
   "source": []
  },
  {
   "cell_type": "markdown",
   "metadata": {},
   "source": [
    "\n",
    "## Memory-Based Methods (Neighborhood-Based)\n",
    "## 1. KNN with scipy sparse matrix \n",
    "Because we have fewer items than users, we calculate item-item similarity. "
   ]
  },
  {
   "cell_type": "markdown",
   "metadata": {},
   "source": [
    "### Movie-user matrices (rows=movieId, columns=userId)"
   ]
  },
  {
   "cell_type": "code",
   "execution_count": 3,
   "metadata": {},
   "outputs": [
    {
     "data": {
      "text/html": [
       "<div>\n",
       "<style scoped>\n",
       "    .dataframe tbody tr th:only-of-type {\n",
       "        vertical-align: middle;\n",
       "    }\n",
       "\n",
       "    .dataframe tbody tr th {\n",
       "        vertical-align: top;\n",
       "    }\n",
       "\n",
       "    .dataframe thead th {\n",
       "        text-align: right;\n",
       "    }\n",
       "</style>\n",
       "<table border=\"1\" class=\"dataframe\">\n",
       "  <thead>\n",
       "    <tr style=\"text-align: right;\">\n",
       "      <th>userId</th>\n",
       "      <th>1</th>\n",
       "      <th>2</th>\n",
       "      <th>3</th>\n",
       "      <th>4</th>\n",
       "      <th>5</th>\n",
       "      <th>6</th>\n",
       "      <th>7</th>\n",
       "      <th>8</th>\n",
       "      <th>9</th>\n",
       "      <th>10</th>\n",
       "      <th>...</th>\n",
       "      <th>601</th>\n",
       "      <th>602</th>\n",
       "      <th>603</th>\n",
       "      <th>604</th>\n",
       "      <th>605</th>\n",
       "      <th>606</th>\n",
       "      <th>607</th>\n",
       "      <th>608</th>\n",
       "      <th>609</th>\n",
       "      <th>610</th>\n",
       "    </tr>\n",
       "    <tr>\n",
       "      <th>movieId</th>\n",
       "      <th></th>\n",
       "      <th></th>\n",
       "      <th></th>\n",
       "      <th></th>\n",
       "      <th></th>\n",
       "      <th></th>\n",
       "      <th></th>\n",
       "      <th></th>\n",
       "      <th></th>\n",
       "      <th></th>\n",
       "      <th></th>\n",
       "      <th></th>\n",
       "      <th></th>\n",
       "      <th></th>\n",
       "      <th></th>\n",
       "      <th></th>\n",
       "      <th></th>\n",
       "      <th></th>\n",
       "      <th></th>\n",
       "      <th></th>\n",
       "      <th></th>\n",
       "    </tr>\n",
       "  </thead>\n",
       "  <tbody>\n",
       "    <tr>\n",
       "      <th>1</th>\n",
       "      <td>4.0</td>\n",
       "      <td>0.0</td>\n",
       "      <td>0.0</td>\n",
       "      <td>0.0</td>\n",
       "      <td>4.0</td>\n",
       "      <td>0.0</td>\n",
       "      <td>4.5</td>\n",
       "      <td>0.0</td>\n",
       "      <td>0.0</td>\n",
       "      <td>0.0</td>\n",
       "      <td>...</td>\n",
       "      <td>4.0</td>\n",
       "      <td>0.0</td>\n",
       "      <td>4.0</td>\n",
       "      <td>3.0</td>\n",
       "      <td>4.0</td>\n",
       "      <td>2.5</td>\n",
       "      <td>4.0</td>\n",
       "      <td>2.5</td>\n",
       "      <td>3.0</td>\n",
       "      <td>5.0</td>\n",
       "    </tr>\n",
       "    <tr>\n",
       "      <th>2</th>\n",
       "      <td>0.0</td>\n",
       "      <td>0.0</td>\n",
       "      <td>0.0</td>\n",
       "      <td>0.0</td>\n",
       "      <td>0.0</td>\n",
       "      <td>4.0</td>\n",
       "      <td>0.0</td>\n",
       "      <td>4.0</td>\n",
       "      <td>0.0</td>\n",
       "      <td>0.0</td>\n",
       "      <td>...</td>\n",
       "      <td>0.0</td>\n",
       "      <td>4.0</td>\n",
       "      <td>0.0</td>\n",
       "      <td>5.0</td>\n",
       "      <td>3.5</td>\n",
       "      <td>0.0</td>\n",
       "      <td>0.0</td>\n",
       "      <td>2.0</td>\n",
       "      <td>0.0</td>\n",
       "      <td>0.0</td>\n",
       "    </tr>\n",
       "    <tr>\n",
       "      <th>3</th>\n",
       "      <td>4.0</td>\n",
       "      <td>0.0</td>\n",
       "      <td>0.0</td>\n",
       "      <td>0.0</td>\n",
       "      <td>0.0</td>\n",
       "      <td>5.0</td>\n",
       "      <td>0.0</td>\n",
       "      <td>0.0</td>\n",
       "      <td>0.0</td>\n",
       "      <td>0.0</td>\n",
       "      <td>...</td>\n",
       "      <td>0.0</td>\n",
       "      <td>0.0</td>\n",
       "      <td>0.0</td>\n",
       "      <td>0.0</td>\n",
       "      <td>0.0</td>\n",
       "      <td>0.0</td>\n",
       "      <td>0.0</td>\n",
       "      <td>2.0</td>\n",
       "      <td>0.0</td>\n",
       "      <td>0.0</td>\n",
       "    </tr>\n",
       "    <tr>\n",
       "      <th>4</th>\n",
       "      <td>0.0</td>\n",
       "      <td>0.0</td>\n",
       "      <td>0.0</td>\n",
       "      <td>0.0</td>\n",
       "      <td>0.0</td>\n",
       "      <td>3.0</td>\n",
       "      <td>0.0</td>\n",
       "      <td>0.0</td>\n",
       "      <td>0.0</td>\n",
       "      <td>0.0</td>\n",
       "      <td>...</td>\n",
       "      <td>0.0</td>\n",
       "      <td>0.0</td>\n",
       "      <td>0.0</td>\n",
       "      <td>0.0</td>\n",
       "      <td>0.0</td>\n",
       "      <td>0.0</td>\n",
       "      <td>0.0</td>\n",
       "      <td>0.0</td>\n",
       "      <td>0.0</td>\n",
       "      <td>0.0</td>\n",
       "    </tr>\n",
       "    <tr>\n",
       "      <th>5</th>\n",
       "      <td>0.0</td>\n",
       "      <td>0.0</td>\n",
       "      <td>0.0</td>\n",
       "      <td>0.0</td>\n",
       "      <td>0.0</td>\n",
       "      <td>5.0</td>\n",
       "      <td>0.0</td>\n",
       "      <td>0.0</td>\n",
       "      <td>0.0</td>\n",
       "      <td>0.0</td>\n",
       "      <td>...</td>\n",
       "      <td>0.0</td>\n",
       "      <td>0.0</td>\n",
       "      <td>0.0</td>\n",
       "      <td>3.0</td>\n",
       "      <td>0.0</td>\n",
       "      <td>0.0</td>\n",
       "      <td>0.0</td>\n",
       "      <td>0.0</td>\n",
       "      <td>0.0</td>\n",
       "      <td>0.0</td>\n",
       "    </tr>\n",
       "  </tbody>\n",
       "</table>\n",
       "<p>5 rows × 610 columns</p>\n",
       "</div>"
      ],
      "text/plain": [
       "userId   1    2    3    4    5    6    7    8    9    10   ...  601  602  603  \\\n",
       "movieId                                                    ...                  \n",
       "1        4.0  0.0  0.0  0.0  4.0  0.0  4.5  0.0  0.0  0.0  ...  4.0  0.0  4.0   \n",
       "2        0.0  0.0  0.0  0.0  0.0  4.0  0.0  4.0  0.0  0.0  ...  0.0  4.0  0.0   \n",
       "3        4.0  0.0  0.0  0.0  0.0  5.0  0.0  0.0  0.0  0.0  ...  0.0  0.0  0.0   \n",
       "4        0.0  0.0  0.0  0.0  0.0  3.0  0.0  0.0  0.0  0.0  ...  0.0  0.0  0.0   \n",
       "5        0.0  0.0  0.0  0.0  0.0  5.0  0.0  0.0  0.0  0.0  ...  0.0  0.0  0.0   \n",
       "\n",
       "userId   604  605  606  607  608  609  610  \n",
       "movieId                                     \n",
       "1        3.0  4.0  2.5  4.0  2.5  3.0  5.0  \n",
       "2        5.0  3.5  0.0  0.0  2.0  0.0  0.0  \n",
       "3        0.0  0.0  0.0  0.0  2.0  0.0  0.0  \n",
       "4        0.0  0.0  0.0  0.0  0.0  0.0  0.0  \n",
       "5        3.0  0.0  0.0  0.0  0.0  0.0  0.0  \n",
       "\n",
       "[5 rows x 610 columns]"
      ]
     },
     "execution_count": 3,
     "metadata": {},
     "output_type": "execute_result"
    }
   ],
   "source": [
    "# pivot and create movie-user matrix and fill missing observations with 0s\n",
    "movie_to_user_df = master_1.pivot(\n",
    "    index='movieId',\n",
    "     columns='userId',\n",
    "      values='rating').fillna(0)\n",
    "\n",
    "movie_to_user_df.head()\n"
   ]
  },
  {
   "cell_type": "code",
   "execution_count": 4,
   "metadata": {},
   "outputs": [
    {
     "name": "stdout",
     "output_type": "stream",
     "text": [
      "(9724, 610)\n"
     ]
    }
   ],
   "source": [
    "# transform matrix to scipy sparse matrix\n",
    "\n",
    "movie_to_user_sparse_df = csr_matrix(movie_to_user_df.values)\n",
    "movie_to_user_sparse_df\n",
    "\n",
    "# Check the shape\n",
    "print(movie_to_user_sparse_df.shape)\n"
   ]
  },
  {
   "cell_type": "markdown",
   "metadata": {},
   "source": [
    "###  Check sparsity of the movie-user matrix "
   ]
  },
  {
   "cell_type": "code",
   "execution_count": 5,
   "metadata": {},
   "outputs": [
    {
     "name": "stdout",
     "output_type": "stream",
     "text": [
      "There is about 98.30% of ratings in our data is missing\n"
     ]
    }
   ],
   "source": [
    "# calcuate total number of entries in the movie-user matrix\n",
    "num_entries = movie_to_user_df.shape[0] * movie_to_user_df.shape[1]\n",
    "# calculate total number of entries with zero values\n",
    "num_zeros = (movie_to_user_df==0).sum(axis=1).sum()\n",
    "# calculate ratio of number of zeros to number of entries\n",
    "ratio_zeros = num_zeros / num_entries\n",
    "print('There is about {:.2%} of ratings in our data is missing'.format(ratio_zeros))"
   ]
  },
  {
   "cell_type": "markdown",
   "metadata": {},
   "source": [
    "Insights: The majority of entries is zero. With too many zeros, the distance between similar items in KNN model will be very large."
   ]
  },
  {
   "cell_type": "markdown",
   "metadata": {},
   "source": [
    "### Fitting K-Nearest Neighbours model to the scipy sparse matrix"
   ]
  },
  {
   "cell_type": "code",
   "execution_count": 6,
   "metadata": {},
   "outputs": [
    {
     "data": {
      "text/plain": [
       "NearestNeighbors(algorithm='brute', metric='cosine', n_jobs=-1, n_neighbors=20)"
      ]
     },
     "execution_count": 6,
     "metadata": {},
     "output_type": "execute_result"
    }
   ],
   "source": [
    "# Fiting the model \n",
    "\n",
    "knn_model = NearestNeighbors(metric='cosine', algorithm='brute', n_neighbors=20, n_jobs=-1)\n",
    "\n",
    "knn_model.fit(movie_to_user_sparse_df)\n",
    "\n"
   ]
  },
  {
   "cell_type": "markdown",
   "metadata": {},
   "source": [
    "### Using the trained model to make movie recommendations"
   ]
  },
  {
   "cell_type": "code",
   "execution_count": 7,
   "metadata": {},
   "outputs": [],
   "source": [
    "movies_list = list(movie_to_user_df.index)\n",
    "# Creating a dictionary with movie name as key and its index from the list as value \n",
    "movie_dict = {movie : index for index, movie in enumerate(movies_list)}"
   ]
  },
  {
   "cell_type": "code",
   "execution_count": 8,
   "metadata": {},
   "outputs": [],
   "source": [
    "## function to find top n similar movies of the given movie title. \n",
    "\n",
    "def get_similar_movies(title, n = 5):\n",
    "    ## get movieId from title\n",
    "    movie_id= master.loc[master.title==title, 'movieId'][0]\n",
    "    ## input to this function is the movie and number of top similar movies you want.\n",
    "    index = movie_dict[movie_id]\n",
    "    knn_input = np.asarray([movie_to_user_df.values[index]])\n",
    "    n = min(len(movies_list)-1,n)\n",
    "    distances, indices = knn_model.kneighbors(knn_input, n_neighbors=n+1)\n",
    "    print(\"Top\",n,\"movies which are very much similar to the Movie-\",title, \"are: \")\n",
    "    print(\" \")\n",
    "    for i in range(1,len(distances[0])):\n",
    "        print(master.loc[master.movieId==movies_list[indices[0][i]], 'title'][:1])\n",
    "        #print(movies_list[indices[0][i]], master.loc[master.movieId==movies_list[indices[0][i]], 'title'][:1])\n",
    "        \n",
    "  "
   ]
  },
  {
   "cell_type": "code",
   "execution_count": 9,
   "metadata": {
    "scrolled": true
   },
   "outputs": [
    {
     "name": "stdout",
     "output_type": "stream",
     "text": [
      "Top 5 movies which are very much similar to the Movie- Toy Story (1995) are: \n",
      " \n",
      "52421    Toy Story 2 (1999)\n",
      "Name: title, dtype: object\n",
      "13387    Jurassic Park (1993)\n",
      "Name: title, dtype: object\n",
      "19177    Independence Day (a.k.a. ID4) (1996)\n",
      "Name: title, dtype: object\n",
      "6905    Star Wars: Episode IV - A New Hope (1977)\n",
      "Name: title, dtype: object\n",
      "10305    Forrest Gump (1994)\n",
      "Name: title, dtype: object\n"
     ]
    }
   ],
   "source": [
    "from pprint import pprint\n",
    "get_similar_movies('Toy Story (1995)',5)"
   ]
  },
  {
   "cell_type": "code",
   "execution_count": null,
   "metadata": {},
   "outputs": [],
   "source": []
  },
  {
   "cell_type": "markdown",
   "metadata": {},
   "source": []
  },
  {
   "cell_type": "markdown",
   "metadata": {},
   "source": []
  },
  {
   "cell_type": "markdown",
   "metadata": {},
   "source": [
    "## 2. KNN with surprise"
   ]
  },
  {
   "cell_type": "code",
   "execution_count": 10,
   "metadata": {},
   "outputs": [],
   "source": [
    "# read new_df as Surprise dataset \n",
    "# specify the range of rating 0.5-5 (defalt setting is 1-5)\n",
    "reader = Reader(rating_scale =(0.5, 5) ) \n",
    "df = Dataset.load_from_df(master_1,reader)"
   ]
  },
  {
   "cell_type": "code",
   "execution_count": 11,
   "metadata": {},
   "outputs": [
    {
     "name": "stdout",
     "output_type": "stream",
     "text": [
      "Number of users:  9724 \n",
      "\n",
      "Number of items:  610 \n",
      "\n"
     ]
    }
   ],
   "source": [
    "# report how many users and items we have in our dataset\n",
    "dataset = df.build_full_trainset()\n",
    "\n",
    "print('Number of users: ', dataset.n_users, '\\n')\n",
    "print('Number of items: ', dataset.n_items, '\\n')"
   ]
  },
  {
   "cell_type": "code",
   "execution_count": 12,
   "metadata": {},
   "outputs": [
    {
     "name": "stdout",
     "output_type": "stream",
     "text": [
      "Min rating: 0.5\n",
      "Max rating: 5.0\n"
     ]
    }
   ],
   "source": [
    "# the range of ratings \n",
    "print('Min rating:', master_1.rating.min())\n",
    "print('Max rating:', master_1.rating.max())"
   ]
  },
  {
   "cell_type": "code",
   "execution_count": 13,
   "metadata": {},
   "outputs": [],
   "source": [
    "#Train test split with test size of 20% \n",
    "\n",
    "trainset, testset = train_test_split(df, test_size=0.2)\n"
   ]
  },
  {
   "cell_type": "markdown",
   "metadata": {},
   "source": [
    "### KNNBasic\n",
    "A basic collaborative filtering algorithm."
   ]
  },
  {
   "cell_type": "code",
   "execution_count": 14,
   "metadata": {},
   "outputs": [],
   "source": [
    "# Two similarity options \n",
    "\n",
    "sim_cos = {'name':'cosine', 'user_based':False}\n",
    "sim_pearson = {'name':'pearson', 'user_based':False}\n",
    "\n",
    "sim_options = [sim_cos, sim_pearson]\n",
    "\n",
    "# Ks \n",
    "list_of_ks = [10,20,40]"
   ]
  },
  {
   "cell_type": "code",
   "execution_count": 15,
   "metadata": {},
   "outputs": [
    {
     "name": "stdout",
     "output_type": "stream",
     "text": [
      "Calculating sim_option = cosine and k = 10:\n",
      "Computing the cosine similarity matrix...\n",
      "Done computing similarity matrix.\n",
      "Computing the cosine similarity matrix...\n",
      "Done computing similarity matrix.\n",
      "Computing the cosine similarity matrix...\n",
      "Done computing similarity matrix.\n",
      "RMSE 0.9953967464817491\n",
      "Calculating sim_option = cosine and k = 20:\n",
      "Computing the cosine similarity matrix...\n",
      "Done computing similarity matrix.\n",
      "Computing the cosine similarity matrix...\n",
      "Done computing similarity matrix.\n",
      "Computing the cosine similarity matrix...\n",
      "Done computing similarity matrix.\n",
      "RMSE 0.9828086133897894\n",
      "Calculating sim_option = cosine and k = 40:\n",
      "Computing the cosine similarity matrix...\n",
      "Done computing similarity matrix.\n",
      "Computing the cosine similarity matrix...\n",
      "Done computing similarity matrix.\n",
      "Computing the cosine similarity matrix...\n",
      "Done computing similarity matrix.\n",
      "RMSE 0.9810974946298798\n",
      "Calculating sim_option = pearson and k = 10:\n",
      "Computing the pearson similarity matrix...\n",
      "Done computing similarity matrix.\n",
      "Computing the pearson similarity matrix...\n",
      "Done computing similarity matrix.\n",
      "Computing the pearson similarity matrix...\n",
      "Done computing similarity matrix.\n",
      "RMSE 0.9973378903255713\n",
      "Calculating sim_option = pearson and k = 20:\n",
      "Computing the pearson similarity matrix...\n",
      "Done computing similarity matrix.\n",
      "Computing the pearson similarity matrix...\n",
      "Done computing similarity matrix.\n",
      "Computing the pearson similarity matrix...\n",
      "Done computing similarity matrix.\n",
      "RMSE 0.9889744750209517\n",
      "Calculating sim_option = pearson and k = 40:\n",
      "Computing the pearson similarity matrix...\n",
      "Done computing similarity matrix.\n",
      "Computing the pearson similarity matrix...\n",
      "Done computing similarity matrix.\n",
      "Computing the pearson similarity matrix...\n",
      "Done computing similarity matrix.\n",
      "RMSE 0.9866955017795526\n"
     ]
    }
   ],
   "source": [
    "# Hyperparameter Tuning\n",
    "# KNNBasic \n",
    "for sim in sim_options:\n",
    "\n",
    "    for k in list_of_ks:\n",
    "        \n",
    "        print(\n",
    "            'Calculating sim_option = ' + str(sim['name']) + \\\n",
    "            ' and k = ' + str(k) + ':' )        \n",
    "        algo = KNNBasic(k = k, sim_options = sim)\n",
    "        results = cross_validate(algo, df, measures=['RMSE'], cv=3, return_train_measures=True);\n",
    "        print('RMSE', np.mean(results['test_rmse']))\n"
   ]
  },
  {
   "cell_type": "markdown",
   "metadata": {},
   "source": [
    "Insights: For KNN Basic, pick {sim_option = cosine and k = 40} , RMSE 0.9808902092915393"
   ]
  },
  {
   "cell_type": "code",
   "execution_count": 17,
   "metadata": {},
   "outputs": [],
   "source": [
    "# cross validating with KNNBasic, item-based approach \n",
    "\n",
    "sim_cos = {'name':'cosine', 'user_based':False}\n",
    "\n",
    "basic = KNNBasic(sim_options=sim_cos)\n",
    "cv_knn_basic = cross_validate(basic, df, measures=['RMSE'], cv=3, n_jobs = -1)\n",
    "\n",
    "# n_jobs =-1 to ensures that all of the cores will be used to process fitting and evaluating. \n"
   ]
  },
  {
   "cell_type": "code",
   "execution_count": 18,
   "metadata": {
    "scrolled": true
   },
   "outputs": [
    {
     "name": "stdout",
     "output_type": "stream",
     "text": [
      "('test_rmse', array([0.98523485, 0.97086065, 0.98041521]))\n",
      "('fit_time', (0.16493916511535645, 0.1630570888519287, 0.16947031021118164))\n",
      "('test_time', (1.340721845626831, 1.327664852142334, 1.3435888290405273))\n",
      "-----------------------\n",
      "0.9788369044334124\n"
     ]
    }
   ],
   "source": [
    "# print out the average RMSE score for the test set\n",
    "for i in cv_knn_basic.items():\n",
    "    print(i)\n",
    "print('-----------------------')\n",
    "print(np.mean(cv_knn_basic['test_rmse']))\n",
    "\n"
   ]
  },
  {
   "cell_type": "markdown",
   "metadata": {},
   "source": [
    "### KNNMean\n",
    "This is the same thing as the basic KNN model, except it takes into account the mean rating of each item."
   ]
  },
  {
   "cell_type": "code",
   "execution_count": 19,
   "metadata": {},
   "outputs": [
    {
     "name": "stdout",
     "output_type": "stream",
     "text": [
      "Calculating sim_option = cosine and k = 10:\n",
      "Computing the cosine similarity matrix...\n",
      "Done computing similarity matrix.\n",
      "Computing the cosine similarity matrix...\n",
      "Done computing similarity matrix.\n",
      "Computing the cosine similarity matrix...\n",
      "Done computing similarity matrix.\n",
      "RMSE 0.9214135833353835\n",
      "Calculating sim_option = cosine and k = 20:\n",
      "Computing the cosine similarity matrix...\n",
      "Done computing similarity matrix.\n",
      "Computing the cosine similarity matrix...\n",
      "Done computing similarity matrix.\n",
      "Computing the cosine similarity matrix...\n",
      "Done computing similarity matrix.\n",
      "RMSE 0.9119544160755719\n",
      "Calculating sim_option = cosine and k = 40:\n",
      "Computing the cosine similarity matrix...\n",
      "Done computing similarity matrix.\n",
      "Computing the cosine similarity matrix...\n",
      "Done computing similarity matrix.\n",
      "Computing the cosine similarity matrix...\n",
      "Done computing similarity matrix.\n",
      "RMSE 0.9093085234394095\n",
      "Calculating sim_option = pearson and k = 10:\n",
      "Computing the pearson similarity matrix...\n",
      "Done computing similarity matrix.\n",
      "Computing the pearson similarity matrix...\n",
      "Done computing similarity matrix.\n",
      "Computing the pearson similarity matrix...\n",
      "Done computing similarity matrix.\n",
      "RMSE 0.9197546879680404\n",
      "Calculating sim_option = pearson and k = 20:\n",
      "Computing the pearson similarity matrix...\n",
      "Done computing similarity matrix.\n",
      "Computing the pearson similarity matrix...\n",
      "Done computing similarity matrix.\n",
      "Computing the pearson similarity matrix...\n",
      "Done computing similarity matrix.\n",
      "RMSE 0.9105565090343775\n",
      "Calculating sim_option = pearson and k = 40:\n",
      "Computing the pearson similarity matrix...\n",
      "Done computing similarity matrix.\n",
      "Computing the pearson similarity matrix...\n",
      "Done computing similarity matrix.\n",
      "Computing the pearson similarity matrix...\n",
      "Done computing similarity matrix.\n",
      "RMSE 0.9077146230401109\n"
     ]
    }
   ],
   "source": [
    "# Hyperparameter Tuning\n",
    "# KNNMeans \n",
    "for sim in sim_options:\n",
    "\n",
    "    for k in list_of_ks:\n",
    "        \n",
    "        print(\n",
    "            'Calculating sim_option = ' + str(sim['name']) + \\\n",
    "            ' and k = ' + str(k) + ':' )        \n",
    "        algo = KNNWithMeans(k = k, sim_options = sim)\n",
    "        results = cross_validate(algo, df, measures=['RMSE'], cv=3, return_train_measures=True);\n",
    "        print('RMSE', np.mean(results['test_rmse']))\n"
   ]
  },
  {
   "cell_type": "markdown",
   "metadata": {},
   "source": [
    "Insights: For KNN Means, pick {sim_option = pearson and k = 40} , RMSE 0.9079785175984204"
   ]
  },
  {
   "cell_type": "code",
   "execution_count": 20,
   "metadata": {},
   "outputs": [],
   "source": [
    "# cross validating with KNNMean\n",
    "mean = KNNWithMeans(sim_options=sim_cos)\n",
    "cv_knn_mean = cross_validate(mean, df, n_jobs = -1)"
   ]
  },
  {
   "cell_type": "code",
   "execution_count": 21,
   "metadata": {},
   "outputs": [
    {
     "name": "stdout",
     "output_type": "stream",
     "text": [
      "('test_rmse', array([0.90628256, 0.90321849, 0.90417636, 0.8927588 , 0.90459365]))\n",
      "('test_mae', array([0.69222423, 0.69158727, 0.6905144 , 0.68378511, 0.69215994]))\n",
      "('fit_time', (0.2415471076965332, 0.23057103157043457, 0.2398841381072998, 0.2309551239013672, 0.24585795402526855))\n",
      "('test_time', (1.1737420558929443, 1.2422337532043457, 1.1536052227020264, 1.200530767440796, 1.1927309036254883))\n",
      "-----------------------\n",
      "0.9022059721784249\n"
     ]
    }
   ],
   "source": [
    "# print out the average RMSE score for the test set\n",
    "for i in cv_knn_mean.items():\n",
    "    print(i)\n",
    "print('-----------------------')\n",
    "print(np.mean(cv_knn_mean['test_rmse']))\n",
    "\n"
   ]
  },
  {
   "cell_type": "markdown",
   "metadata": {},
   "source": [
    "### KNNBaseline\n",
    "It takes into account a baseline rating. It adds biases for items and users. "
   ]
  },
  {
   "cell_type": "code",
   "execution_count": 22,
   "metadata": {
    "scrolled": true
   },
   "outputs": [
    {
     "name": "stdout",
     "output_type": "stream",
     "text": [
      "Calculating sim_option = cosine and k = 10:\n",
      "Estimating biases using als...\n",
      "Computing the cosine similarity matrix...\n",
      "Done computing similarity matrix.\n",
      "Estimating biases using als...\n",
      "Computing the cosine similarity matrix...\n",
      "Done computing similarity matrix.\n",
      "Estimating biases using als...\n",
      "Computing the cosine similarity matrix...\n",
      "Done computing similarity matrix.\n",
      "RMSE 0.8947970449069572\n",
      "Calculating sim_option = cosine and k = 20:\n",
      "Estimating biases using als...\n",
      "Computing the cosine similarity matrix...\n",
      "Done computing similarity matrix.\n",
      "Estimating biases using als...\n",
      "Computing the cosine similarity matrix...\n",
      "Done computing similarity matrix.\n",
      "Estimating biases using als...\n",
      "Computing the cosine similarity matrix...\n",
      "Done computing similarity matrix.\n",
      "RMSE 0.8881197537445793\n",
      "Calculating sim_option = cosine and k = 40:\n",
      "Estimating biases using als...\n",
      "Computing the cosine similarity matrix...\n",
      "Done computing similarity matrix.\n",
      "Estimating biases using als...\n",
      "Computing the cosine similarity matrix...\n",
      "Done computing similarity matrix.\n",
      "Estimating biases using als...\n",
      "Computing the cosine similarity matrix...\n",
      "Done computing similarity matrix.\n",
      "RMSE 0.8859635303849246\n",
      "Calculating sim_option = pearson and k = 10:\n",
      "Estimating biases using als...\n",
      "Computing the pearson similarity matrix...\n",
      "Done computing similarity matrix.\n",
      "Estimating biases using als...\n",
      "Computing the pearson similarity matrix...\n",
      "Done computing similarity matrix.\n",
      "Estimating biases using als...\n",
      "Computing the pearson similarity matrix...\n",
      "Done computing similarity matrix.\n",
      "RMSE 0.8983890266439548\n",
      "Calculating sim_option = pearson and k = 20:\n",
      "Estimating biases using als...\n",
      "Computing the pearson similarity matrix...\n",
      "Done computing similarity matrix.\n",
      "Estimating biases using als...\n",
      "Computing the pearson similarity matrix...\n",
      "Done computing similarity matrix.\n",
      "Estimating biases using als...\n",
      "Computing the pearson similarity matrix...\n",
      "Done computing similarity matrix.\n",
      "RMSE 0.8924026642649615\n",
      "Calculating sim_option = pearson and k = 40:\n",
      "Estimating biases using als...\n",
      "Computing the pearson similarity matrix...\n",
      "Done computing similarity matrix.\n",
      "Estimating biases using als...\n",
      "Computing the pearson similarity matrix...\n",
      "Done computing similarity matrix.\n",
      "Estimating biases using als...\n",
      "Computing the pearson similarity matrix...\n",
      "Done computing similarity matrix.\n",
      "RMSE 0.8890431442288637\n"
     ]
    }
   ],
   "source": [
    "# Hyperparameter Tuning\n",
    "# KNNBaseline \n",
    "for sim in sim_options:\n",
    "\n",
    "    for k in list_of_ks:\n",
    "        \n",
    "        print(\n",
    "            'Calculating sim_option = ' + str(sim['name']) + \\\n",
    "            ' and k = ' + str(k) + ':' )        \n",
    "        algo = KNNBaseline(k = k, sim_options = sim)\n",
    "        results = cross_validate(algo, df, measures=['RMSE'], cv=3, return_train_measures=True);\n",
    "        print('RMSE', np.mean(results['test_rmse']))\n"
   ]
  },
  {
   "cell_type": "markdown",
   "metadata": {},
   "source": [
    "Insights: For KNN Baseline, pick {sim_option = cosine and k = 40} , RMSE 0.8868368800819563"
   ]
  },
  {
   "cell_type": "code",
   "execution_count": 23,
   "metadata": {},
   "outputs": [],
   "source": [
    "# cross validating with KNNBaseline\n",
    "baseline = KNNBaseline(sim_options=sim_cos)\n",
    "cv_knn_baseline = cross_validate(baseline, df, n_jobs = -1)"
   ]
  },
  {
   "cell_type": "code",
   "execution_count": 24,
   "metadata": {},
   "outputs": [
    {
     "name": "stdout",
     "output_type": "stream",
     "text": [
      "('test_rmse', array([0.87866426, 0.87817519, 0.8755136 , 0.8815892 , 0.88021499]))\n",
      "('test_mae', array([0.67234037, 0.67367921, 0.66637112, 0.67430384, 0.67492312]))\n",
      "('fit_time', (0.2752220630645752, 0.2796192169189453, 0.3004002571105957, 0.2790038585662842, 0.2596869468688965))\n",
      "('test_time', (1.4980831146240234, 1.505275011062622, 1.482499122619629, 1.5172221660614014, 1.475606918334961))\n",
      "-----------------------\n",
      "0.8788314472303774\n"
     ]
    }
   ],
   "source": [
    "# print out the average score for the test set\n",
    "for i in cv_knn_baseline.items():\n",
    "    print(i)\n",
    "print('-----------------------')\n",
    "print(np.mean(cv_knn_baseline['test_rmse']))\n"
   ]
  },
  {
   "cell_type": "code",
   "execution_count": null,
   "metadata": {},
   "outputs": [],
   "source": []
  },
  {
   "cell_type": "markdown",
   "metadata": {},
   "source": [
    "## Model-Based Methods \n",
    "## 3. Matrix Factorization with surprise\n",
    "### SVD"
   ]
  },
  {
   "cell_type": "code",
   "execution_count": 25,
   "metadata": {},
   "outputs": [
    {
     "name": "stderr",
     "output_type": "stream",
     "text": [
      "[Parallel(n_jobs=-1)]: Using backend LokyBackend with 8 concurrent workers.\n",
      "[Parallel(n_jobs=-1)]: Done  16 tasks      | elapsed:    2.3s\n",
      "[Parallel(n_jobs=-1)]: Done 112 tasks      | elapsed:   25.4s\n",
      "[Parallel(n_jobs=-1)]: Done 162 out of 162 | elapsed:   48.9s finished\n"
     ]
    }
   ],
   "source": [
    "## Perform a gridsearch with SVD\n",
    "\n",
    "param_grid = {'n_factors':[20, 50, 100],'n_epochs': [5, 10, 15], 'lr_all': [0.002, 0.005, 0.01],\n",
    "               'reg_all': [0.04, 0.06]}\n",
    "gs_model = GridSearchCV(SVD, param_grid, cv=3, n_jobs = -1, joblib_verbose=3)\n",
    "gs_model.fit(df)\n"
   ]
  },
  {
   "cell_type": "code",
   "execution_count": 26,
   "metadata": {},
   "outputs": [
    {
     "name": "stdout",
     "output_type": "stream",
     "text": [
      "0.8769195312018185\n",
      "{'n_factors': 100, 'n_epochs': 15, 'lr_all': 0.01, 'reg_all': 0.06}\n"
     ]
    }
   ],
   "source": [
    "# print out optimal parameters for SVD after GridSearch\n",
    "print(gs_model.best_score['rmse'])\n",
    "print(gs_model.best_params['rmse'])"
   ]
  },
  {
   "cell_type": "code",
   "execution_count": 27,
   "metadata": {},
   "outputs": [],
   "source": [
    "# SVD with best params \n",
    "svd = SVD(n_factors=100, n_epochs=15, lr_all=0.01, reg_all=0.06)\n",
    "cv_svd = cross_validate(svd, df, cv=3, n_jobs = -1)"
   ]
  },
  {
   "cell_type": "code",
   "execution_count": 28,
   "metadata": {},
   "outputs": [
    {
     "name": "stdout",
     "output_type": "stream",
     "text": [
      "('test_rmse', array([0.87070164, 0.88113095, 0.88073159]))\n",
      "('test_mae', array([0.67301447, 0.67659699, 0.67820408]))\n",
      "('fit_time', (3.17297101020813, 2.837721109390259, 3.1856589317321777))\n",
      "('test_time', (0.16179895401000977, 0.17902803421020508, 0.15520310401916504))\n",
      "-----------------------\n",
      "0.877521391025725\n"
     ]
    }
   ],
   "source": [
    "for i in cv_svd.items():\n",
    "    print(i)\n",
    "print('-----------------------')\n",
    "print(np.mean(cv_svd['test_rmse']))\n"
   ]
  },
  {
   "cell_type": "markdown",
   "metadata": {},
   "source": [
    "## Making Recommendations\n",
    "### Making simple predictions"
   ]
  },
  {
   "cell_type": "code",
   "execution_count": 36,
   "metadata": {},
   "outputs": [
    {
     "name": "stdout",
     "output_type": "stream",
     "text": [
      "Estimated rating for user=2 item=4:  3.73\n"
     ]
    }
   ],
   "source": [
    "# make a prediction for an individual user and item using the SVD model above\n",
    "model = SVD(n_factors=100, n_epochs=15, lr_all=0.01, reg_all=0.06)\n",
    "model.fit(trainset)\n",
    "\n",
    "# a prediction for user 50 and item 4 \n",
    "pred = model.predict(uid = 5, iid=1)\n",
    "score = pred.est\n",
    "print('Estimated rating for user=2 item=4: ', round(score, 2))"
   ]
  },
  {
   "cell_type": "markdown",
   "metadata": {},
   "source": [
    "## Make recommendations to an existing user (uid =50)\n",
    "\n",
    "### reference https://blog.cambridgespark.com/tutorial-practical-introduction-to-recommender-systems-dbe22848392b"
   ]
  },
  {
   "cell_type": "code",
   "execution_count": 41,
   "metadata": {},
   "outputs": [],
   "source": [
    "# find the movie ids that user_id=50 didn’t rate \n",
    "\n",
    "# get a list of all movie titles \n",
    "iids = master['title'].unique()\n",
    "# Get a list of movie ids that uid 50 has rated \n",
    "iid50 = master.loc[master['userId']==50, 'title']\n",
    "# Remove the iids that uid50 has rated from the lisf of iids\n",
    "iids_to_pred = np.setdiff1d(iids, iid50)  # setdiff1d = Find the set difference of two arrays.\n",
    "\n"
   ]
  },
  {
   "cell_type": "code",
   "execution_count": 42,
   "metadata": {},
   "outputs": [
    {
     "data": {
      "text/plain": [
       "Prediction(uid=50, iid=\"'71 (2014)\", r_ui=4.0, est=4.192082135941737, details={'was_impossible': False})"
      ]
     },
     "execution_count": 42,
     "metadata": {},
     "output_type": "execute_result"
    }
   ],
   "source": [
    "# Predict the score of each of the movie ids that user 50 didn’t rate, and find the best one.\n",
    "\n",
    "# create another dataset with the iids\n",
    "# arbitrarily set all the ratings of this test set to 4\n",
    "\n",
    "testset = [[50, iid, 4.] for iid in iids_to_pred]\n",
    "predictions = model.test(testset)\n",
    "predictions[0]\n",
    "\n"
   ]
  },
  {
   "cell_type": "code",
   "execution_count": 104,
   "metadata": {
    "scrolled": true
   },
   "outputs": [
    {
     "name": "stdout",
     "output_type": "stream",
     "text": [
      "Top 5 item for user 50 is ['Fried Green Tomatoes (1991)'\n",
      " 'Friday the 13th Part VI: Jason Lives (1986)'\n",
      " 'Friday the 13th Part 3: 3D (1982)'\n",
      " 'Friday the 13th Part IV: The Final Chapter (1984)'\n",
      " 'À nous la liberté (Freedom for Us) (1931)']\n",
      "Predicted ratings [4.19208214 4.19208214 4.19208214 4.19208214 4.19208214]\n"
     ]
    }
   ],
   "source": [
    "# Predict the score of each of the movie ids that user 50 didn’t rate, and find the top one.\n",
    "\n",
    "pred_ratings = np.array([pred.est for pred in predictions])\n",
    "\n",
    "\n",
    "# Find the index of top 5 predicted ratings\n",
    "i_max_5 = pred_ratings.argpartition(-5)[-5:]\n",
    "\n",
    "# Use this to find the corresponding movie title to recommend \n",
    "iid_5 = iids_to_pred[i_max_5]\n",
    "\n",
    "print('Top 5 item for user 50 is {}'\n",
    "      .format(iid_5))\n"
   ]
  },
  {
   "cell_type": "code",
   "execution_count": 67,
   "metadata": {},
   "outputs": [],
   "source": [
    "def actual_top5(user_id, master_data):\n",
    "    # return top5 movie titles and ratings that user actually rated \n",
    "    rated = master.loc[master_data['userId']==user_id, ['title', 'rating']]\n",
    "    rated = rated.sort_values('rating', ascending=False)[:5]\n",
    "    return rated\n",
    "    "
   ]
  },
  {
   "cell_type": "code",
   "execution_count": 68,
   "metadata": {
    "scrolled": true
   },
   "outputs": [
    {
     "data": {
      "text/html": [
       "<div>\n",
       "<style scoped>\n",
       "    .dataframe tbody tr th:only-of-type {\n",
       "        vertical-align: middle;\n",
       "    }\n",
       "\n",
       "    .dataframe tbody tr th {\n",
       "        vertical-align: top;\n",
       "    }\n",
       "\n",
       "    .dataframe thead th {\n",
       "        text-align: right;\n",
       "    }\n",
       "</style>\n",
       "<table border=\"1\" class=\"dataframe\">\n",
       "  <thead>\n",
       "    <tr style=\"text-align: right;\">\n",
       "      <th></th>\n",
       "      <th>title</th>\n",
       "      <th>rating</th>\n",
       "    </tr>\n",
       "  </thead>\n",
       "  <tbody>\n",
       "    <tr>\n",
       "      <th>21443</th>\n",
       "      <td>2001: A Space Odyssey (1968)</td>\n",
       "      <td>4.5</td>\n",
       "    </tr>\n",
       "    <tr>\n",
       "      <th>25969</th>\n",
       "      <td>Lawrence of Arabia (1962)</td>\n",
       "      <td>4.5</td>\n",
       "    </tr>\n",
       "    <tr>\n",
       "      <th>26200</th>\n",
       "      <td>Apocalypse Now (1979)</td>\n",
       "      <td>4.5</td>\n",
       "    </tr>\n",
       "    <tr>\n",
       "      <th>28272</th>\n",
       "      <td>8 1/2 (8½) (1963)</td>\n",
       "      <td>4.5</td>\n",
       "    </tr>\n",
       "    <tr>\n",
       "      <th>75595</th>\n",
       "      <td>Persona (1966)</td>\n",
       "      <td>4.0</td>\n",
       "    </tr>\n",
       "  </tbody>\n",
       "</table>\n",
       "</div>"
      ],
      "text/plain": [
       "                              title  rating\n",
       "21443  2001: A Space Odyssey (1968)     4.5\n",
       "25969     Lawrence of Arabia (1962)     4.5\n",
       "26200         Apocalypse Now (1979)     4.5\n",
       "28272             8 1/2 (8½) (1963)     4.5\n",
       "75595                Persona (1966)     4.0"
      ]
     },
     "execution_count": 68,
     "metadata": {},
     "output_type": "execute_result"
    }
   ],
   "source": [
    "actual_top5(50, master)"
   ]
  },
  {
   "cell_type": "markdown",
   "metadata": {},
   "source": [
    "## Make recommendations to an existing user"
   ]
  },
  {
   "cell_type": "code",
   "execution_count": 62,
   "metadata": {},
   "outputs": [],
   "source": [
    "# Function to provide top 5 ratings for user i \n",
    "\n",
    "def top5(user_id, master_data):\n",
    "    \n",
    "    '''\n",
    "    Step 1 find the movies that user i didn’t rate \n",
    "    \n",
    "    Step 2 Predict the score of each of the movie that user 50 didn’t rate, and find top 5.\n",
    "    '''\n",
    "    \n",
    "    # step 1 find the movies that user i didn’t rate \n",
    "    # get a list of all movie titles \n",
    "    mids = master_data['title'].unique()\n",
    "    # Get a list of movie ids that user i has rated \n",
    "    mid_i = master_data.loc[master_data['userId']==user_id, 'title']\n",
    "    # from the list of all movie, remove titles user i has rated\n",
    "    mids_to_pred = np.setdiff1d(mids, mid_i)  \n",
    "    \n",
    "    # step 2 Predict the score of each of the movie that user 50 didn’t rate, and find the best one.\n",
    "    # create another dataset with the mids (movie titles). arbitrarily set all the ratings of this test set to 4\n",
    "    testset = [[user_id, mid, 4.] for mid in mids_to_pred]\n",
    "    # Fit the testdata to our model and get predicted ratings\n",
    "    predictions = model.test(testset)\n",
    "    pred_ratings = np.array([pred.est for pred in predictions])\n",
    "    \n",
    "    # Find the index of top 5 predicted ratings\n",
    "    top_5 = pred_ratings.argpartition(-5)[-5:]\n",
    "    # Find the corresponding movie title to recommend \n",
    "    top_5_title = mids_to_pred[i_max_5]\n",
    "    \n",
    "    return print('Top 5 item for user {} is {}'.format(user_id, top_5_title))\n",
    "\n",
    "\n"
   ]
  },
  {
   "cell_type": "code",
   "execution_count": 98,
   "metadata": {},
   "outputs": [],
   "source": [
    "# Function which returns top10 movie titles with ratings that user i actually rated \n",
    "def actual_top10(user_id, master_data):\n",
    "    \n",
    "    rated = master.loc[master_data['userId']==user_id, ['title', 'rating']]\n",
    "    rated = rated.sort_values('rating', ascending=False)[:10]\n",
    "    return rated\n",
    "    "
   ]
  },
  {
   "cell_type": "markdown",
   "metadata": {},
   "source": [
    "## Evaluating our recommendation system"
   ]
  },
  {
   "cell_type": "markdown",
   "metadata": {},
   "source": []
  },
  {
   "cell_type": "markdown",
   "metadata": {},
   "source": []
  },
  {
   "cell_type": "markdown",
   "metadata": {},
   "source": [
    "### A case of User Id = 50"
   ]
  },
  {
   "cell_type": "code",
   "execution_count": 99,
   "metadata": {
    "scrolled": true
   },
   "outputs": [
    {
     "name": "stdout",
     "output_type": "stream",
     "text": [
      "Top 5 item for user 50 is ['Fried Green Tomatoes (1991)'\n",
      " 'Friday the 13th Part VI: Jason Lives (1986)'\n",
      " 'Friday the 13th Part 3: 3D (1982)'\n",
      " 'Friday the 13th Part IV: The Final Chapter (1984)'\n",
      " 'À nous la liberté (Freedom for Us) (1931)']\n"
     ]
    }
   ],
   "source": [
    "# Test the function with user_id 50 \n",
    "top5(50, master)"
   ]
  },
  {
   "cell_type": "code",
   "execution_count": 100,
   "metadata": {},
   "outputs": [
    {
     "data": {
      "text/html": [
       "<div>\n",
       "<style scoped>\n",
       "    .dataframe tbody tr th:only-of-type {\n",
       "        vertical-align: middle;\n",
       "    }\n",
       "\n",
       "    .dataframe tbody tr th {\n",
       "        vertical-align: top;\n",
       "    }\n",
       "\n",
       "    .dataframe thead th {\n",
       "        text-align: right;\n",
       "    }\n",
       "</style>\n",
       "<table border=\"1\" class=\"dataframe\">\n",
       "  <thead>\n",
       "    <tr style=\"text-align: right;\">\n",
       "      <th></th>\n",
       "      <th>title</th>\n",
       "      <th>rating</th>\n",
       "    </tr>\n",
       "  </thead>\n",
       "  <tbody>\n",
       "    <tr>\n",
       "      <th>21443</th>\n",
       "      <td>2001: A Space Odyssey (1968)</td>\n",
       "      <td>4.5</td>\n",
       "    </tr>\n",
       "    <tr>\n",
       "      <th>25969</th>\n",
       "      <td>Lawrence of Arabia (1962)</td>\n",
       "      <td>4.5</td>\n",
       "    </tr>\n",
       "    <tr>\n",
       "      <th>26200</th>\n",
       "      <td>Apocalypse Now (1979)</td>\n",
       "      <td>4.5</td>\n",
       "    </tr>\n",
       "    <tr>\n",
       "      <th>28272</th>\n",
       "      <td>8 1/2 (8½) (1963)</td>\n",
       "      <td>4.5</td>\n",
       "    </tr>\n",
       "    <tr>\n",
       "      <th>75595</th>\n",
       "      <td>Persona (1966)</td>\n",
       "      <td>4.0</td>\n",
       "    </tr>\n",
       "    <tr>\n",
       "      <th>24445</th>\n",
       "      <td>Monty Python and the Holy Grail (1975)</td>\n",
       "      <td>4.0</td>\n",
       "    </tr>\n",
       "    <tr>\n",
       "      <th>25644</th>\n",
       "      <td>Brazil (1985)</td>\n",
       "      <td>4.0</td>\n",
       "    </tr>\n",
       "    <tr>\n",
       "      <th>25831</th>\n",
       "      <td>Good, the Bad and the Ugly, The (Buono, il bru...</td>\n",
       "      <td>4.0</td>\n",
       "    </tr>\n",
       "    <tr>\n",
       "      <th>27587</th>\n",
       "      <td>Stalker (1979)</td>\n",
       "      <td>4.0</td>\n",
       "    </tr>\n",
       "    <tr>\n",
       "      <th>28291</th>\n",
       "      <td>Chinatown (1974)</td>\n",
       "      <td>4.0</td>\n",
       "    </tr>\n",
       "  </tbody>\n",
       "</table>\n",
       "</div>"
      ],
      "text/plain": [
       "                                                   title  rating\n",
       "21443                       2001: A Space Odyssey (1968)     4.5\n",
       "25969                          Lawrence of Arabia (1962)     4.5\n",
       "26200                              Apocalypse Now (1979)     4.5\n",
       "28272                                  8 1/2 (8½) (1963)     4.5\n",
       "75595                                     Persona (1966)     4.0\n",
       "24445             Monty Python and the Holy Grail (1975)     4.0\n",
       "25644                                      Brazil (1985)     4.0\n",
       "25831  Good, the Bad and the Ugly, The (Buono, il bru...     4.0\n",
       "27587                                     Stalker (1979)     4.0\n",
       "28291                                   Chinatown (1974)     4.0"
      ]
     },
     "execution_count": 100,
     "metadata": {},
     "output_type": "execute_result"
    }
   ],
   "source": [
    "# Check the actual rating by use 50\n",
    "actual_top10(50, master)"
   ]
  },
  {
   "cell_type": "markdown",
   "metadata": {},
   "source": [
    "### A case of User Id 100"
   ]
  },
  {
   "cell_type": "code",
   "execution_count": 101,
   "metadata": {
    "scrolled": true
   },
   "outputs": [
    {
     "name": "stdout",
     "output_type": "stream",
     "text": [
      "Top 5 item for user 100 is ['Fraternity Vacation (1985)' 'Frankie and Johnny (1966)'\n",
      " 'Frankenstein Must Be Destroyed (1969)' 'Frankenstein Unbound (1990)'\n",
      " 'Woman in Gold (2015)']\n"
     ]
    }
   ],
   "source": [
    "# Test the function with user_id 100\n",
    "top5(100, master)"
   ]
  },
  {
   "cell_type": "code",
   "execution_count": 102,
   "metadata": {},
   "outputs": [
    {
     "data": {
      "text/html": [
       "<div>\n",
       "<style scoped>\n",
       "    .dataframe tbody tr th:only-of-type {\n",
       "        vertical-align: middle;\n",
       "    }\n",
       "\n",
       "    .dataframe tbody tr th {\n",
       "        vertical-align: top;\n",
       "    }\n",
       "\n",
       "    .dataframe thead th {\n",
       "        text-align: right;\n",
       "    }\n",
       "</style>\n",
       "<table border=\"1\" class=\"dataframe\">\n",
       "  <thead>\n",
       "    <tr style=\"text-align: right;\">\n",
       "      <th></th>\n",
       "      <th>title</th>\n",
       "      <th>rating</th>\n",
       "    </tr>\n",
       "  </thead>\n",
       "  <tbody>\n",
       "    <tr>\n",
       "      <th>37674</th>\n",
       "      <td>Terms of Endearment (1983)</td>\n",
       "      <td>5.0</td>\n",
       "    </tr>\n",
       "    <tr>\n",
       "      <th>44261</th>\n",
       "      <td>Christmas Vacation (National Lampoon's Christm...</td>\n",
       "      <td>5.0</td>\n",
       "    </tr>\n",
       "    <tr>\n",
       "      <th>68977</th>\n",
       "      <td>Sweet Home Alabama (2002)</td>\n",
       "      <td>5.0</td>\n",
       "    </tr>\n",
       "    <tr>\n",
       "      <th>24100</th>\n",
       "      <td>Top Gun (1986)</td>\n",
       "      <td>5.0</td>\n",
       "    </tr>\n",
       "    <tr>\n",
       "      <th>60795</th>\n",
       "      <td>Officer and a Gentleman, An (1982)</td>\n",
       "      <td>5.0</td>\n",
       "    </tr>\n",
       "    <tr>\n",
       "      <th>30277</th>\n",
       "      <td>When Harry Met Sally... (1989)</td>\n",
       "      <td>4.5</td>\n",
       "    </tr>\n",
       "    <tr>\n",
       "      <th>36972</th>\n",
       "      <td>Out of Sight (1998)</td>\n",
       "      <td>4.5</td>\n",
       "    </tr>\n",
       "    <tr>\n",
       "      <th>36098</th>\n",
       "      <td>Wedding Singer, The (1998)</td>\n",
       "      <td>4.5</td>\n",
       "    </tr>\n",
       "    <tr>\n",
       "      <th>34950</th>\n",
       "      <td>Sliding Doors (1998)</td>\n",
       "      <td>4.5</td>\n",
       "    </tr>\n",
       "    <tr>\n",
       "      <th>34939</th>\n",
       "      <td>Joy Luck Club, The (1993)</td>\n",
       "      <td>4.5</td>\n",
       "    </tr>\n",
       "  </tbody>\n",
       "</table>\n",
       "</div>"
      ],
      "text/plain": [
       "                                                   title  rating\n",
       "37674                         Terms of Endearment (1983)     5.0\n",
       "44261  Christmas Vacation (National Lampoon's Christm...     5.0\n",
       "68977                          Sweet Home Alabama (2002)     5.0\n",
       "24100                                     Top Gun (1986)     5.0\n",
       "60795                 Officer and a Gentleman, An (1982)     5.0\n",
       "30277                     When Harry Met Sally... (1989)     4.5\n",
       "36972                                Out of Sight (1998)     4.5\n",
       "36098                         Wedding Singer, The (1998)     4.5\n",
       "34950                               Sliding Doors (1998)     4.5\n",
       "34939                          Joy Luck Club, The (1993)     4.5"
      ]
     },
     "execution_count": 102,
     "metadata": {},
     "output_type": "execute_result"
    }
   ],
   "source": [
    "# Check the actual rating by user 100\n",
    "actual_top10(100, master)"
   ]
  },
  {
   "cell_type": "markdown",
   "metadata": {},
   "source": [
    "### A case of User Id 150"
   ]
  },
  {
   "cell_type": "code",
   "execution_count": 105,
   "metadata": {},
   "outputs": [
    {
     "name": "stdout",
     "output_type": "stream",
     "text": [
      "Top 5 item for user 150 is ['Foreign Correspondent (1940)' 'Forbidden Planet (1956)'\n",
      " 'For the Love of Benji (1977)' 'Forbidden Games (Jeux interdits) (1952)'\n",
      " 'Who Framed Roger Rabbit? (1988)']\n"
     ]
    }
   ],
   "source": [
    "# Test the function with user_id 150\n",
    "top5(150, master)"
   ]
  },
  {
   "cell_type": "code",
   "execution_count": 106,
   "metadata": {
    "scrolled": true
   },
   "outputs": [
    {
     "data": {
      "text/html": [
       "<div>\n",
       "<style scoped>\n",
       "    .dataframe tbody tr th:only-of-type {\n",
       "        vertical-align: middle;\n",
       "    }\n",
       "\n",
       "    .dataframe tbody tr th {\n",
       "        vertical-align: top;\n",
       "    }\n",
       "\n",
       "    .dataframe thead th {\n",
       "        text-align: right;\n",
       "    }\n",
       "</style>\n",
       "<table border=\"1\" class=\"dataframe\">\n",
       "  <thead>\n",
       "    <tr style=\"text-align: right;\">\n",
       "      <th></th>\n",
       "      <th>title</th>\n",
       "      <th>rating</th>\n",
       "    </tr>\n",
       "  </thead>\n",
       "  <tbody>\n",
       "    <tr>\n",
       "      <th>30758</th>\n",
       "      <td>Star Trek: First Contact (1996)</td>\n",
       "      <td>5.0</td>\n",
       "    </tr>\n",
       "    <tr>\n",
       "      <th>1553</th>\n",
       "      <td>Twelve Monkeys (a.k.a. 12 Monkeys) (1995)</td>\n",
       "      <td>5.0</td>\n",
       "    </tr>\n",
       "    <tr>\n",
       "      <th>3943</th>\n",
       "      <td>Birdcage, The (1996)</td>\n",
       "      <td>5.0</td>\n",
       "    </tr>\n",
       "    <tr>\n",
       "      <th>17772</th>\n",
       "      <td>Mission: Impossible (1996)</td>\n",
       "      <td>4.0</td>\n",
       "    </tr>\n",
       "    <tr>\n",
       "      <th>462</th>\n",
       "      <td>Heat (1995)</td>\n",
       "      <td>4.0</td>\n",
       "    </tr>\n",
       "    <tr>\n",
       "      <th>1339</th>\n",
       "      <td>Leaving Las Vegas (1995)</td>\n",
       "      <td>4.0</td>\n",
       "    </tr>\n",
       "    <tr>\n",
       "      <th>1842</th>\n",
       "      <td>Dead Man Walking (1995)</td>\n",
       "      <td>4.0</td>\n",
       "    </tr>\n",
       "    <tr>\n",
       "      <th>2617</th>\n",
       "      <td>Mighty Aphrodite (1995)</td>\n",
       "      <td>4.0</td>\n",
       "    </tr>\n",
       "    <tr>\n",
       "      <th>19818</th>\n",
       "      <td>Time to Kill, A (1996)</td>\n",
       "      <td>4.0</td>\n",
       "    </tr>\n",
       "    <tr>\n",
       "      <th>19228</th>\n",
       "      <td>Independence Day (a.k.a. ID4) (1996)</td>\n",
       "      <td>4.0</td>\n",
       "    </tr>\n",
       "  </tbody>\n",
       "</table>\n",
       "</div>"
      ],
      "text/plain": [
       "                                           title  rating\n",
       "30758            Star Trek: First Contact (1996)     5.0\n",
       "1553   Twelve Monkeys (a.k.a. 12 Monkeys) (1995)     5.0\n",
       "3943                        Birdcage, The (1996)     5.0\n",
       "17772                 Mission: Impossible (1996)     4.0\n",
       "462                                  Heat (1995)     4.0\n",
       "1339                    Leaving Las Vegas (1995)     4.0\n",
       "1842                     Dead Man Walking (1995)     4.0\n",
       "2617                     Mighty Aphrodite (1995)     4.0\n",
       "19818                     Time to Kill, A (1996)     4.0\n",
       "19228       Independence Day (a.k.a. ID4) (1996)     4.0"
      ]
     },
     "execution_count": 106,
     "metadata": {},
     "output_type": "execute_result"
    }
   ],
   "source": [
    "# Check the actual rating by user 150\n",
    "actual_top10(150, master)"
   ]
  },
  {
   "cell_type": "code",
   "execution_count": null,
   "metadata": {},
   "outputs": [],
   "source": []
  },
  {
   "cell_type": "code",
   "execution_count": null,
   "metadata": {},
   "outputs": [],
   "source": []
  }
 ],
 "metadata": {
  "kernelspec": {
   "display_name": "Python (learn-env)",
   "language": "python",
   "name": "learn-env"
  },
  "language_info": {
   "codemirror_mode": {
    "name": "ipython",
    "version": 3
   },
   "file_extension": ".py",
   "mimetype": "text/x-python",
   "name": "python",
   "nbconvert_exporter": "python",
   "pygments_lexer": "ipython3",
   "version": "3.8.5"
  }
 },
 "nbformat": 4,
 "nbformat_minor": 4
}
