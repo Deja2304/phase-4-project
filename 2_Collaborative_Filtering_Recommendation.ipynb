{
 "cells": [
  {
   "cell_type": "markdown",
   "metadata": {},
   "source": [
    "## Collaborative Filtering Recommendation System\n",
    "\n",
    "Contents of this notebook \n",
    "1. Modeling \n",
    "   - Memory-Based Methods: KNNBasic, KNNMeans, KNNBasline \n",
    "   - Matrix Factorization: SVD\n",
    "2. Building Top 5 movie recommendation system\n",
    "3. Evaluation of our recommendation system  "
   ]
  },
  {
   "cell_type": "markdown",
   "metadata": {},
   "source": [
    "In this notebook, we use Collaborative Filtering to make recommendations to movie users. The technique is based on the idea that users similar to me can be used to predict how much I will like a particular product those users have used but I have not.\n",
    "\n",
    "We explored the k-Nearest Neighbour (kNN) models and Singular Value Decomposition (SVD) model, using the surprise library. For model selection, we use a root mean squared error (RMSE) as validation metric. \n"
   ]
  },
  {
   "cell_type": "code",
   "execution_count": 1,
   "metadata": {},
   "outputs": [],
   "source": [
    "import pandas as pd\n",
    "import numpy as np\n",
    "import matplotlib.pyplot as plt\n",
    "%matplotlib inline\n",
    "\n",
    "# Import from Surprise \n",
    "from surprise.prediction_algorithms import knns\n",
    "from surprise.similarities import cosine, msd, pearson\n",
    "from surprise import accuracy\n",
    "from surprise import Reader, Dataset\n",
    "from surprise.model_selection import train_test_split, cross_validate, GridSearchCV\n",
    "from surprise.prediction_algorithms import KNNWithMeans, KNNBasic, KNNBaseline, SVD\n",
    "import warnings"
   ]
  },
  {
   "cell_type": "code",
   "execution_count": 2,
   "metadata": {},
   "outputs": [],
   "source": [
    "# read master data\n",
    "master = pd.read_csv('Data/master.csv')\n",
    "\n",
    "# Drop unnecessary columns\n",
    "master_1 = master.loc[:, ['movieId', 'userId', 'rating']]\n",
    "master_1.drop_duplicates(inplace=True)"
   ]
  },
  {
   "cell_type": "markdown",
   "metadata": {},
   "source": [
    "# 1. Modeling "
   ]
  },
  {
   "cell_type": "markdown",
   "metadata": {},
   "source": [
    "\n",
    "## Memory-Based Methods: KNNBasic, KNNMeans, KNNBasline\n"
   ]
  },
  {
   "cell_type": "markdown",
   "metadata": {},
   "source": [
    "Setting up environment to use surprise library"
   ]
  },
  {
   "cell_type": "code",
   "execution_count": 3,
   "metadata": {},
   "outputs": [],
   "source": [
    "# read new_df as Surprise dataset \n",
    "# specify the range of rating 0.5-5 (defalt setting is 1-5)\n",
    "reader = Reader(rating_scale =(0.5, 5) ) \n",
    "df = Dataset.load_from_df(master_1,reader)"
   ]
  },
  {
   "cell_type": "code",
   "execution_count": 4,
   "metadata": {},
   "outputs": [],
   "source": [
    "#Train test split with test size of 20% \n",
    "trainset, testset = train_test_split(df, test_size=0.2)"
   ]
  },
  {
   "cell_type": "code",
   "execution_count": 5,
   "metadata": {},
   "outputs": [
    {
     "name": "stdout",
     "output_type": "stream",
     "text": [
      "Number of users:  9724\n",
      "Number of items:  610\n"
     ]
    }
   ],
   "source": [
    "# report how many users and items we have in our dataset\n",
    "dataset = df.build_full_trainset()\n",
    "\n",
    "print('Number of users: ',dataset.n_users)\n",
    "print('Number of items: ',dataset.n_items)"
   ]
  },
  {
   "cell_type": "code",
   "execution_count": 6,
   "metadata": {},
   "outputs": [
    {
     "name": "stdout",
     "output_type": "stream",
     "text": [
      "Min rating: 0.5\n",
      "Max rating: 5.0\n"
     ]
    }
   ],
   "source": [
    "# the range of ratings \n",
    "print('Min rating:', master_1.rating.min())\n",
    "print('Max rating:', master_1.rating.max())"
   ]
  },
  {
   "cell_type": "markdown",
   "metadata": {},
   "source": [
    "We run three different types of KNN models.\n",
    "\n",
    "kNNBasic: A basic collaborative filtering algorithm. It find similarities between items based on user ratings, and use that information to estimate unkown ratings\n",
    "kNNWithMeans: This is the similar algorithm as the basic KNN model, except it takes into account the mean rating of each item. \n",
    "kNNWithBasline: This takes into account a baseline rating. This adds biases for items and users.\n",
    "\n",
    "For each model, we run a cross_validate method to find the one with the highest root mean squared error (rsme) score. Model tuning results are in 'Data/model_tuning.csv' file. "
   ]
  },
  {
   "cell_type": "markdown",
   "metadata": {},
   "source": [
    "We tune hyperparameters for each model. We focuses on k factor and the similarity measures (Cosine similarity and Pearson similarity). "
   ]
  },
  {
   "cell_type": "code",
   "execution_count": 7,
   "metadata": {},
   "outputs": [],
   "source": [
    "# Two similarity options \n",
    "\n",
    "sim_cos = {'name':'cosine', 'user_based':False}\n",
    "sim_pearson = {'name':'pearson', 'user_based':False}\n",
    "\n",
    "sim_options = [sim_cos, sim_pearson]\n",
    "\n",
    "# Ks \n",
    "list_of_ks = [10,20,40]"
   ]
  },
  {
   "cell_type": "code",
   "execution_count": 8,
   "metadata": {},
   "outputs": [],
   "source": [
    "# csv files to store results \n",
    "import csv\n",
    "\n",
    "with open('Data/model_tuning.csv', 'w') as f:\n",
    "    writer = csv.writer(f)\n",
    "    writer.writerow(['model', 'similarity_metrics', 'k', 'RMSE'])\n",
    "    "
   ]
  },
  {
   "cell_type": "markdown",
   "metadata": {},
   "source": [
    "### KNNBasic"
   ]
  },
  {
   "cell_type": "code",
   "execution_count": 9,
   "metadata": {},
   "outputs": [
    {
     "name": "stdout",
     "output_type": "stream",
     "text": [
      "Calculating sim_option = cosine and k = 10:\n",
      "RMSE 0.9953611121476768\n",
      "Calculating sim_option = cosine and k = 20:\n",
      "RMSE 0.9832861560871874\n",
      "Calculating sim_option = cosine and k = 40:\n",
      "RMSE 0.978382590448254\n",
      "Calculating sim_option = pearson and k = 10:\n",
      "RMSE 0.9968983667052758\n",
      "Calculating sim_option = pearson and k = 20:\n",
      "RMSE 0.9870800454623551\n",
      "Calculating sim_option = pearson and k = 40:\n",
      "RMSE 0.9853645968238225\n"
     ]
    }
   ],
   "source": [
    "# Hyperparameter Tuning\n",
    "# KNNBasic \n",
    "for sim in sim_options:\n",
    "\n",
    "    for k in list_of_ks:\n",
    "        \n",
    "        print(\n",
    "            'Calculating sim_option = ' + str(sim['name']) + \\\n",
    "            ' and k = ' + str(k) + ':' )        \n",
    "        algo = KNNBasic(k = k, sim_options = sim)\n",
    "        results = cross_validate(algo, df, measures=['RMSE'], cv=3, n_jobs = -1)\n",
    "        print('RMSE', np.mean(results['test_rmse']))\n",
    "        \n",
    "        \n",
    "        with open('Data/model_tuning.csv', 'a') as f:\n",
    "            writer = csv.writer(f)\n",
    "            writer.writerow(['KNNBasic', sim['name'], str(k), str(np.mean(results['test_rmse']))])\n"
   ]
  },
  {
   "cell_type": "markdown",
   "metadata": {},
   "source": [
    "Insights: For KNN Basic, pick {sim_option = cosine and k = 40} , RMSE 0.9808621186224512"
   ]
  },
  {
   "cell_type": "markdown",
   "metadata": {},
   "source": [
    "### KNNMean"
   ]
  },
  {
   "cell_type": "code",
   "execution_count": 10,
   "metadata": {},
   "outputs": [
    {
     "name": "stdout",
     "output_type": "stream",
     "text": [
      "Calculating sim_option = cosine and k = 10:\n",
      "RMSE 0.9210667524138006\n",
      "Calculating sim_option = cosine and k = 20:\n",
      "RMSE 0.9111674259345675\n",
      "Calculating sim_option = cosine and k = 40:\n",
      "RMSE 0.9090611050198052\n",
      "Calculating sim_option = pearson and k = 10:\n",
      "RMSE 0.9203331761065104\n",
      "Calculating sim_option = pearson and k = 20:\n",
      "RMSE 0.9100261035734175\n",
      "Calculating sim_option = pearson and k = 40:\n",
      "RMSE 0.9100981112782827\n"
     ]
    }
   ],
   "source": [
    "# Hyperparameter Tuning\n",
    "# KNNMeans \n",
    "for sim in sim_options:\n",
    "\n",
    "    for k in list_of_ks:\n",
    "        \n",
    "        print(\n",
    "            'Calculating sim_option = ' + str(sim['name']) + \\\n",
    "            ' and k = ' + str(k) + ':' )        \n",
    "        algo = KNNWithMeans(k = k, sim_options = sim)\n",
    "        results = cross_validate(algo, df, measures=['RMSE'], cv=3, n_jobs = -1)\n",
    "        print('RMSE', np.mean(results['test_rmse']))\n",
    "        \n",
    "        with open('Data/model_tuning.csv', 'a') as f:\n",
    "            writer = csv.writer(f)\n",
    "            writer.writerow(['KNNMeans', sim['name'], str(k), str(np.mean(results['test_rmse']))])\n"
   ]
  },
  {
   "cell_type": "markdown",
   "metadata": {},
   "source": [
    "Insights: For KNN Means, pick {sim_option = cosine and k = 40} , RMSE 0.9096555008170871"
   ]
  },
  {
   "cell_type": "markdown",
   "metadata": {},
   "source": [
    "### KNNBaseline\n",
    "It takes into account a baseline rating. It adds biases for items and users. "
   ]
  },
  {
   "cell_type": "code",
   "execution_count": 11,
   "metadata": {
    "scrolled": true
   },
   "outputs": [
    {
     "name": "stdout",
     "output_type": "stream",
     "text": [
      "Calculating sim_option = cosine and k = 10:\n",
      "RMSE 0.8951565820106685\n",
      "Calculating sim_option = cosine and k = 20:\n",
      "RMSE 0.8881551072028951\n",
      "Calculating sim_option = cosine and k = 40:\n",
      "RMSE 0.8856858973794516\n",
      "Calculating sim_option = pearson and k = 10:\n",
      "RMSE 0.899678872941417\n",
      "Calculating sim_option = pearson and k = 20:\n",
      "RMSE 0.8898088849334201\n",
      "Calculating sim_option = pearson and k = 40:\n",
      "RMSE 0.8894272925392827\n"
     ]
    }
   ],
   "source": [
    "# Hyperparameter Tuning\n",
    "# KNNBaseline \n",
    "for sim in sim_options:\n",
    "\n",
    "    for k in list_of_ks:\n",
    "        \n",
    "        print(\n",
    "            'Calculating sim_option = ' + str(sim['name']) + \\\n",
    "            ' and k = ' + str(k) + ':' )        \n",
    "        algo = KNNBaseline(k = k, sim_options = sim)\n",
    "        results = cross_validate(algo, df, measures=['RMSE'], cv=3,  n_jobs = -1)\n",
    "        print('RMSE', np.mean(results['test_rmse']))\n",
    "        \n",
    "        with open('Data/model_tuning.csv', 'a') as f:\n",
    "            writer = csv.writer(f)\n",
    "            writer.writerow(['KNNBaseline', sim['name'], str(k), str(np.mean(results['test_rmse']))])\n"
   ]
  },
  {
   "cell_type": "markdown",
   "metadata": {},
   "source": [
    "Insights: For KNN Baseline, pick {sim_option = cosine and k = 40} , RMSE 0.8868368800819563"
   ]
  },
  {
   "cell_type": "markdown",
   "metadata": {},
   "source": [
    "## Matrix Factorization: Support Vector Decomposition (SVD)"
   ]
  },
  {
   "cell_type": "markdown",
   "metadata": {},
   "source": [
    "Matrix factorization is widely used for recommender systems. It can deal better with scalability and sparsity than Memory-based model such as KNNs. Matrix factorization can be done by various methods, but we choose SVD. SVD is the base model used by the winner of 2009 Netflix competition. "
   ]
  },
  {
   "cell_type": "code",
   "execution_count": 12,
   "metadata": {},
   "outputs": [
    {
     "name": "stderr",
     "output_type": "stream",
     "text": [
      "[Parallel(n_jobs=-1)]: Using backend LokyBackend with 8 concurrent workers.\n",
      "[Parallel(n_jobs=-1)]: Done  16 tasks      | elapsed:    2.1s\n",
      "[Parallel(n_jobs=-1)]: Done 112 tasks      | elapsed:   26.3s\n",
      "[Parallel(n_jobs=-1)]: Done 162 out of 162 | elapsed:   50.1s finished\n"
     ]
    }
   ],
   "source": [
    "# Hyperparameter Tuning for SVD\n",
    "# Use Gridsearch\n",
    "\n",
    "param_grid = {'n_factors':[20, 50, 100],'n_epochs': [5, 10, 15], 'lr_all': [0.002, 0.005, 0.01],\n",
    "               'reg_all': [0.04, 0.06]}\n",
    "gs_model = GridSearchCV(SVD, param_grid, cv=3, n_jobs = -1, joblib_verbose=3)\n",
    "gs_model.fit(df)\n"
   ]
  },
  {
   "cell_type": "code",
   "execution_count": 13,
   "metadata": {
    "scrolled": true
   },
   "outputs": [
    {
     "name": "stdout",
     "output_type": "stream",
     "text": [
      "0.8773558442626149\n",
      "{'n_factors': 100, 'n_epochs': 15, 'lr_all': 0.01, 'reg_all': 0.06}\n"
     ]
    }
   ],
   "source": [
    "# print out optimal parameters for SVD after GridSearch\n",
    "print(gs_model.best_score['rmse'])\n",
    "print(gs_model.best_params['rmse'])\n",
    "\n",
    "\n",
    "with open('Data/model_tuning.csv', 'a') as f:\n",
    "    writer = csv.writer(f)\n",
    "    writer.writerow(['SVD', '-', '-', str(gs_model.best_score['rmse'])])\n"
   ]
  },
  {
   "cell_type": "markdown",
   "metadata": {},
   "source": [
    "## Model Selection"
   ]
  },
  {
   "cell_type": "code",
   "execution_count": 14,
   "metadata": {},
   "outputs": [
    {
     "data": {
      "text/html": [
       "<div>\n",
       "<style scoped>\n",
       "    .dataframe tbody tr th:only-of-type {\n",
       "        vertical-align: middle;\n",
       "    }\n",
       "\n",
       "    .dataframe tbody tr th {\n",
       "        vertical-align: top;\n",
       "    }\n",
       "\n",
       "    .dataframe thead th {\n",
       "        text-align: right;\n",
       "    }\n",
       "</style>\n",
       "<table border=\"1\" class=\"dataframe\">\n",
       "  <thead>\n",
       "    <tr style=\"text-align: right;\">\n",
       "      <th></th>\n",
       "      <th>model</th>\n",
       "      <th>similarity_metrics</th>\n",
       "      <th>k</th>\n",
       "      <th>RMSE</th>\n",
       "    </tr>\n",
       "  </thead>\n",
       "  <tbody>\n",
       "    <tr>\n",
       "      <th>18</th>\n",
       "      <td>SVD</td>\n",
       "      <td>-</td>\n",
       "      <td>-</td>\n",
       "      <td>0.877356</td>\n",
       "    </tr>\n",
       "    <tr>\n",
       "      <th>14</th>\n",
       "      <td>KNNBaseline</td>\n",
       "      <td>cosine</td>\n",
       "      <td>40</td>\n",
       "      <td>0.885686</td>\n",
       "    </tr>\n",
       "    <tr>\n",
       "      <th>13</th>\n",
       "      <td>KNNBaseline</td>\n",
       "      <td>cosine</td>\n",
       "      <td>20</td>\n",
       "      <td>0.888155</td>\n",
       "    </tr>\n",
       "    <tr>\n",
       "      <th>17</th>\n",
       "      <td>KNNBaseline</td>\n",
       "      <td>pearson</td>\n",
       "      <td>40</td>\n",
       "      <td>0.889427</td>\n",
       "    </tr>\n",
       "    <tr>\n",
       "      <th>16</th>\n",
       "      <td>KNNBaseline</td>\n",
       "      <td>pearson</td>\n",
       "      <td>20</td>\n",
       "      <td>0.889809</td>\n",
       "    </tr>\n",
       "    <tr>\n",
       "      <th>12</th>\n",
       "      <td>KNNBaseline</td>\n",
       "      <td>cosine</td>\n",
       "      <td>10</td>\n",
       "      <td>0.895157</td>\n",
       "    </tr>\n",
       "    <tr>\n",
       "      <th>15</th>\n",
       "      <td>KNNBaseline</td>\n",
       "      <td>pearson</td>\n",
       "      <td>10</td>\n",
       "      <td>0.899679</td>\n",
       "    </tr>\n",
       "    <tr>\n",
       "      <th>8</th>\n",
       "      <td>KNNMeans</td>\n",
       "      <td>cosine</td>\n",
       "      <td>40</td>\n",
       "      <td>0.909061</td>\n",
       "    </tr>\n",
       "    <tr>\n",
       "      <th>10</th>\n",
       "      <td>KNNMeans</td>\n",
       "      <td>pearson</td>\n",
       "      <td>20</td>\n",
       "      <td>0.910026</td>\n",
       "    </tr>\n",
       "    <tr>\n",
       "      <th>11</th>\n",
       "      <td>KNNMeans</td>\n",
       "      <td>pearson</td>\n",
       "      <td>40</td>\n",
       "      <td>0.910098</td>\n",
       "    </tr>\n",
       "    <tr>\n",
       "      <th>7</th>\n",
       "      <td>KNNMeans</td>\n",
       "      <td>cosine</td>\n",
       "      <td>20</td>\n",
       "      <td>0.911167</td>\n",
       "    </tr>\n",
       "    <tr>\n",
       "      <th>9</th>\n",
       "      <td>KNNMeans</td>\n",
       "      <td>pearson</td>\n",
       "      <td>10</td>\n",
       "      <td>0.920333</td>\n",
       "    </tr>\n",
       "    <tr>\n",
       "      <th>6</th>\n",
       "      <td>KNNMeans</td>\n",
       "      <td>cosine</td>\n",
       "      <td>10</td>\n",
       "      <td>0.921067</td>\n",
       "    </tr>\n",
       "    <tr>\n",
       "      <th>2</th>\n",
       "      <td>KNNBasic</td>\n",
       "      <td>cosine</td>\n",
       "      <td>40</td>\n",
       "      <td>0.978383</td>\n",
       "    </tr>\n",
       "    <tr>\n",
       "      <th>1</th>\n",
       "      <td>KNNBasic</td>\n",
       "      <td>cosine</td>\n",
       "      <td>20</td>\n",
       "      <td>0.983286</td>\n",
       "    </tr>\n",
       "    <tr>\n",
       "      <th>5</th>\n",
       "      <td>KNNBasic</td>\n",
       "      <td>pearson</td>\n",
       "      <td>40</td>\n",
       "      <td>0.985365</td>\n",
       "    </tr>\n",
       "    <tr>\n",
       "      <th>4</th>\n",
       "      <td>KNNBasic</td>\n",
       "      <td>pearson</td>\n",
       "      <td>20</td>\n",
       "      <td>0.987080</td>\n",
       "    </tr>\n",
       "    <tr>\n",
       "      <th>0</th>\n",
       "      <td>KNNBasic</td>\n",
       "      <td>cosine</td>\n",
       "      <td>10</td>\n",
       "      <td>0.995361</td>\n",
       "    </tr>\n",
       "    <tr>\n",
       "      <th>3</th>\n",
       "      <td>KNNBasic</td>\n",
       "      <td>pearson</td>\n",
       "      <td>10</td>\n",
       "      <td>0.996898</td>\n",
       "    </tr>\n",
       "  </tbody>\n",
       "</table>\n",
       "</div>"
      ],
      "text/plain": [
       "          model similarity_metrics   k      RMSE\n",
       "18          SVD                  -   -  0.877356\n",
       "14  KNNBaseline             cosine  40  0.885686\n",
       "13  KNNBaseline             cosine  20  0.888155\n",
       "17  KNNBaseline            pearson  40  0.889427\n",
       "16  KNNBaseline            pearson  20  0.889809\n",
       "12  KNNBaseline             cosine  10  0.895157\n",
       "15  KNNBaseline            pearson  10  0.899679\n",
       "8      KNNMeans             cosine  40  0.909061\n",
       "10     KNNMeans            pearson  20  0.910026\n",
       "11     KNNMeans            pearson  40  0.910098\n",
       "7      KNNMeans             cosine  20  0.911167\n",
       "9      KNNMeans            pearson  10  0.920333\n",
       "6      KNNMeans             cosine  10  0.921067\n",
       "2      KNNBasic             cosine  40  0.978383\n",
       "1      KNNBasic             cosine  20  0.983286\n",
       "5      KNNBasic            pearson  40  0.985365\n",
       "4      KNNBasic            pearson  20  0.987080\n",
       "0      KNNBasic             cosine  10  0.995361\n",
       "3      KNNBasic            pearson  10  0.996898"
      ]
     },
     "execution_count": 14,
     "metadata": {},
     "output_type": "execute_result"
    }
   ],
   "source": [
    "df = pd.read_csv('Data/model_tuning.csv')\n",
    "df.sort_values('RMSE')"
   ]
  },
  {
   "cell_type": "markdown",
   "metadata": {},
   "source": [
    "SVD performed the best in terms of RMSE (0.877). Among KNN models, KNN baseline models performs better than other KNNs, yet SVD is slightly better. \n",
    "\n",
    "To interpret this result, on average, our SVD model estimates ratings with an error of approximately 0.877. On a scale of 0-5 rating, this 0.877 value is not too bad. For example, a rating of 3 compared to 3.8 is not be a significant different. "
   ]
  },
  {
   "cell_type": "code",
   "execution_count": 15,
   "metadata": {},
   "outputs": [],
   "source": [
    "# Our Model for Collaborative Filtering Recommendation \n",
    "\n",
    "model = SVD(n_factors=100, n_epochs=15, lr_all=0.01, reg_all=0.06)\n",
    "model.fit(trainset)\n",
    "predictions = model.test(testset)\n"
   ]
  },
  {
   "cell_type": "markdown",
   "metadata": {},
   "source": [
    "## 2. Building Movie Recommendation \n",
    "\n",
    "### Top 5 Movie Recommendations to an Existing Customer"
   ]
  },
  {
   "cell_type": "markdown",
   "metadata": {},
   "source": [
    "Using our final mode, we build a recommendation system which provide a top five movie recommendations to an existing customer. \n",
    "In the cell below, we create a function to derive top 5 recommendations for user_id given metadata of the company. In this recommendation function, we first find the movies was not rated by a user, since we don’t want to recommend a movie they’ve already watched. And then, we predict the score of each movie that a user didn’t rate, and find the top 5. "
   ]
  },
  {
   "cell_type": "code",
   "execution_count": 16,
   "metadata": {},
   "outputs": [
    {
     "name": "stdout",
     "output_type": "stream",
     "text": [
      "<class 'pandas.core.frame.DataFrame'>\n",
      "RangeIndex: 9742 entries, 0 to 9741\n",
      "Data columns (total 3 columns):\n",
      " #   Column   Non-Null Count  Dtype \n",
      "---  ------   --------------  ----- \n",
      " 0   movieId  9742 non-null   int64 \n",
      " 1   title    9742 non-null   object\n",
      " 2   genres   9742 non-null   object\n",
      "dtypes: int64(1), object(2)\n",
      "memory usage: 228.5+ KB\n"
     ]
    }
   ],
   "source": [
    "# load movieId, title data\n",
    "movies = pd.read_csv('Data/movies.csv')\n",
    "movies.info()"
   ]
  },
  {
   "cell_type": "code",
   "execution_count": 17,
   "metadata": {},
   "outputs": [],
   "source": [
    "# Function to return predicted ratings and movie titles by order \n",
    "\n",
    "def pred_rating(user_id, master_data):\n",
    "    '''\n",
    "    Step 1 Find the movies that user i didn’t rate \n",
    "    \n",
    "    Step 2 Predict ratings for movies that user didn’t rate  \n",
    "    \n",
    "    Step 3 Merge predicted scores with movie titles, and oreder by predicted ratings\n",
    "    '''\n",
    "    \n",
    "    # Find the movies that user i didn’t rate \n",
    "    # get a list of all movie titles \n",
    "    mids = master_data['movieId'].unique()\n",
    "    # Get a list of movie title that user i has rated \n",
    "    mid_i = master_data.loc[master_data['userId']==user_id, 'movieId']\n",
    "    # from the list of all movie, remove movieid user i has rated\n",
    "    mids_to_pred = np.setdiff1d(mids, mid_i)\n",
    "    \n",
    "    #Predict ratings for movies that user didn’t rate    \n",
    "    user_prediction = [model.predict(user_id, mid) for mid in mids_to_pred]    \n",
    "    # Make a list of predcted ratings \n",
    "    pred_rating = [user_prediction[i].est for i in range(len(mids_to_pred))]\n",
    "    # Create data frame with movie ids and predicted ratings \n",
    "    pred_tuples = list(zip(mids_to_pred,pred_rating))\n",
    "    pred_df = pd.DataFrame(pred_tuples, columns=['movieId','pred_rating'])\n",
    "    \n",
    "    # Merge with movies data\n",
    "    pred_df_title = pred_df.merge(movies, how = 'inner', on='movieId')\n",
    "\n",
    "    \n",
    "    return pred_df_title.sort_values('pred_rating', ascending=False)"
   ]
  },
  {
   "cell_type": "code",
   "execution_count": 18,
   "metadata": {},
   "outputs": [],
   "source": [
    "# Function which returns top10 movie titles with ratings that user i actually rated \n",
    "def actual_top10(user_id, master_data):\n",
    "    \n",
    "    rated = master.loc[master_data['userId']==user_id, ['movieId', 'rating']]\n",
    "    rated = rated.merge(movies, how='inner', on='movieId')\n",
    "    rated = rated.sort_values('rating', ascending=False)[:10]\n",
    "    return rated"
   ]
  },
  {
   "cell_type": "markdown",
   "metadata": {},
   "source": [
    "## 3. Evaluation of our recommendation system"
   ]
  },
  {
   "cell_type": "markdown",
   "metadata": {},
   "source": [
    "Using the recommendation system we created, we provide a recommendation for several existing users, and compare the model's recommendation with a list of each user's top-rated movies. We assess user ids of 50, 100, and 150.  "
   ]
  },
  {
   "cell_type": "markdown",
   "metadata": {},
   "source": [
    "### Case1: User id = 50\n",
    "According to UserId=50's rating history, this person X seems to enjoy watching science fiction and psychological films as well as comedies. Most of them are from the 1960s and ‘70s. We also noticed that this person likes to watch international movies. \n",
    "Our model recommends dramas and comedies. It seems not far from his profile but it is not 100 % tailared to his interest. "
   ]
  },
  {
   "cell_type": "markdown",
   "metadata": {},
   "source": [
    "#### Recommendation for User Id 50"
   ]
  },
  {
   "cell_type": "code",
   "execution_count": 19,
   "metadata": {
    "scrolled": true
   },
   "outputs": [
    {
     "data": {
      "text/html": [
       "<div>\n",
       "<style scoped>\n",
       "    .dataframe tbody tr th:only-of-type {\n",
       "        vertical-align: middle;\n",
       "    }\n",
       "\n",
       "    .dataframe tbody tr th {\n",
       "        vertical-align: top;\n",
       "    }\n",
       "\n",
       "    .dataframe thead th {\n",
       "        text-align: right;\n",
       "    }\n",
       "</style>\n",
       "<table border=\"1\" class=\"dataframe\">\n",
       "  <thead>\n",
       "    <tr style=\"text-align: right;\">\n",
       "      <th></th>\n",
       "      <th>movieId</th>\n",
       "      <th>pred_rating</th>\n",
       "      <th>title</th>\n",
       "      <th>genres</th>\n",
       "    </tr>\n",
       "  </thead>\n",
       "  <tbody>\n",
       "    <tr>\n",
       "      <th>468</th>\n",
       "      <td>543</td>\n",
       "      <td>5.0</td>\n",
       "      <td>So I Married an Axe Murderer (1993)</td>\n",
       "      <td>Comedy|Romance|Thriller</td>\n",
       "    </tr>\n",
       "    <tr>\n",
       "      <th>10</th>\n",
       "      <td>12</td>\n",
       "      <td>5.0</td>\n",
       "      <td>Dracula: Dead and Loving It (1995)</td>\n",
       "      <td>Comedy|Horror</td>\n",
       "    </tr>\n",
       "    <tr>\n",
       "      <th>406</th>\n",
       "      <td>475</td>\n",
       "      <td>5.0</td>\n",
       "      <td>In the Name of the Father (1993)</td>\n",
       "      <td>Drama</td>\n",
       "    </tr>\n",
       "    <tr>\n",
       "      <th>46</th>\n",
       "      <td>53</td>\n",
       "      <td>5.0</td>\n",
       "      <td>Lamerica (1994)</td>\n",
       "      <td>Adventure|Drama</td>\n",
       "    </tr>\n",
       "    <tr>\n",
       "      <th>103</th>\n",
       "      <td>122</td>\n",
       "      <td>5.0</td>\n",
       "      <td>Boomerang (1992)</td>\n",
       "      <td>Comedy|Romance</td>\n",
       "    </tr>\n",
       "    <tr>\n",
       "      <th>322</th>\n",
       "      <td>371</td>\n",
       "      <td>5.0</td>\n",
       "      <td>Paper, The (1994)</td>\n",
       "      <td>Comedy|Drama</td>\n",
       "    </tr>\n",
       "    <tr>\n",
       "      <th>139</th>\n",
       "      <td>171</td>\n",
       "      <td>5.0</td>\n",
       "      <td>Jeffrey (1995)</td>\n",
       "      <td>Comedy|Drama</td>\n",
       "    </tr>\n",
       "    <tr>\n",
       "      <th>234</th>\n",
       "      <td>276</td>\n",
       "      <td>5.0</td>\n",
       "      <td>Milk Money (1994)</td>\n",
       "      <td>Comedy|Romance</td>\n",
       "    </tr>\n",
       "    <tr>\n",
       "      <th>37</th>\n",
       "      <td>43</td>\n",
       "      <td>5.0</td>\n",
       "      <td>Restoration (1995)</td>\n",
       "      <td>Drama</td>\n",
       "    </tr>\n",
       "    <tr>\n",
       "      <th>451</th>\n",
       "      <td>523</td>\n",
       "      <td>5.0</td>\n",
       "      <td>Ruby in Paradise (1993)</td>\n",
       "      <td>Drama</td>\n",
       "    </tr>\n",
       "  </tbody>\n",
       "</table>\n",
       "</div>"
      ],
      "text/plain": [
       "     movieId  pred_rating                                title  \\\n",
       "468      543          5.0  So I Married an Axe Murderer (1993)   \n",
       "10        12          5.0   Dracula: Dead and Loving It (1995)   \n",
       "406      475          5.0     In the Name of the Father (1993)   \n",
       "46        53          5.0                      Lamerica (1994)   \n",
       "103      122          5.0                     Boomerang (1992)   \n",
       "322      371          5.0                    Paper, The (1994)   \n",
       "139      171          5.0                       Jeffrey (1995)   \n",
       "234      276          5.0                    Milk Money (1994)   \n",
       "37        43          5.0                   Restoration (1995)   \n",
       "451      523          5.0              Ruby in Paradise (1993)   \n",
       "\n",
       "                      genres  \n",
       "468  Comedy|Romance|Thriller  \n",
       "10             Comedy|Horror  \n",
       "406                    Drama  \n",
       "46           Adventure|Drama  \n",
       "103           Comedy|Romance  \n",
       "322             Comedy|Drama  \n",
       "139             Comedy|Drama  \n",
       "234           Comedy|Romance  \n",
       "37                     Drama  \n",
       "451                    Drama  "
      ]
     },
     "execution_count": 19,
     "metadata": {},
     "output_type": "execute_result"
    }
   ],
   "source": [
    "# predicted rating for user 50\n",
    "user50 = pred_rating(50, master).head(10)\n",
    "\n",
    "user50\n"
   ]
  },
  {
   "cell_type": "code",
   "execution_count": 20,
   "metadata": {},
   "outputs": [],
   "source": [
    "# This is to save above image for README file \n",
    "# pip install dataframe-image"
   ]
  },
  {
   "cell_type": "code",
   "execution_count": 21,
   "metadata": {},
   "outputs": [],
   "source": [
    "import dataframe_image as dfi\n",
    "dfi.export(user50, 'Data/dataframe.png')"
   ]
  },
  {
   "cell_type": "markdown",
   "metadata": {},
   "source": [
    "#### Profile by user id 50"
   ]
  },
  {
   "cell_type": "code",
   "execution_count": 22,
   "metadata": {
    "scrolled": true
   },
   "outputs": [
    {
     "data": {
      "text/html": [
       "<div>\n",
       "<style scoped>\n",
       "    .dataframe tbody tr th:only-of-type {\n",
       "        vertical-align: middle;\n",
       "    }\n",
       "\n",
       "    .dataframe tbody tr th {\n",
       "        vertical-align: top;\n",
       "    }\n",
       "\n",
       "    .dataframe thead th {\n",
       "        text-align: right;\n",
       "    }\n",
       "</style>\n",
       "<table border=\"1\" class=\"dataframe\">\n",
       "  <thead>\n",
       "    <tr style=\"text-align: right;\">\n",
       "      <th></th>\n",
       "      <th>movieId</th>\n",
       "      <th>rating</th>\n",
       "      <th>title</th>\n",
       "      <th>genres</th>\n",
       "    </tr>\n",
       "  </thead>\n",
       "  <tbody>\n",
       "    <tr>\n",
       "      <th>21</th>\n",
       "      <td>924</td>\n",
       "      <td>4.5</td>\n",
       "      <td>2001: A Space Odyssey (1968)</td>\n",
       "      <td>Adventure|Drama|Sci-Fi</td>\n",
       "    </tr>\n",
       "    <tr>\n",
       "      <th>33</th>\n",
       "      <td>1204</td>\n",
       "      <td>4.5</td>\n",
       "      <td>Lawrence of Arabia (1962)</td>\n",
       "      <td>Adventure|Drama|War</td>\n",
       "    </tr>\n",
       "    <tr>\n",
       "      <th>35</th>\n",
       "      <td>1208</td>\n",
       "      <td>4.5</td>\n",
       "      <td>Apocalypse Now (1979)</td>\n",
       "      <td>Action|Drama|War</td>\n",
       "    </tr>\n",
       "    <tr>\n",
       "      <th>40</th>\n",
       "      <td>1251</td>\n",
       "      <td>4.5</td>\n",
       "      <td>8 1/2 (8½) (1963)</td>\n",
       "      <td>Drama|Fantasy</td>\n",
       "    </tr>\n",
       "    <tr>\n",
       "      <th>121</th>\n",
       "      <td>7327</td>\n",
       "      <td>4.0</td>\n",
       "      <td>Persona (1966)</td>\n",
       "      <td>Drama</td>\n",
       "    </tr>\n",
       "    <tr>\n",
       "      <th>28</th>\n",
       "      <td>1136</td>\n",
       "      <td>4.0</td>\n",
       "      <td>Monty Python and the Holy Grail (1975)</td>\n",
       "      <td>Adventure|Comedy|Fantasy</td>\n",
       "    </tr>\n",
       "    <tr>\n",
       "      <th>31</th>\n",
       "      <td>1199</td>\n",
       "      <td>4.0</td>\n",
       "      <td>Brazil (1985)</td>\n",
       "      <td>Fantasy|Sci-Fi</td>\n",
       "    </tr>\n",
       "    <tr>\n",
       "      <th>32</th>\n",
       "      <td>1201</td>\n",
       "      <td>4.0</td>\n",
       "      <td>Good, the Bad and the Ugly, The (Buono, il bru...</td>\n",
       "      <td>Action|Adventure|Western</td>\n",
       "    </tr>\n",
       "    <tr>\n",
       "      <th>39</th>\n",
       "      <td>1232</td>\n",
       "      <td>4.0</td>\n",
       "      <td>Stalker (1979)</td>\n",
       "      <td>Drama|Mystery|Sci-Fi</td>\n",
       "    </tr>\n",
       "    <tr>\n",
       "      <th>41</th>\n",
       "      <td>1252</td>\n",
       "      <td>4.0</td>\n",
       "      <td>Chinatown (1974)</td>\n",
       "      <td>Crime|Film-Noir|Mystery|Thriller</td>\n",
       "    </tr>\n",
       "  </tbody>\n",
       "</table>\n",
       "</div>"
      ],
      "text/plain": [
       "     movieId  rating                                              title  \\\n",
       "21       924     4.5                       2001: A Space Odyssey (1968)   \n",
       "33      1204     4.5                          Lawrence of Arabia (1962)   \n",
       "35      1208     4.5                              Apocalypse Now (1979)   \n",
       "40      1251     4.5                                  8 1/2 (8½) (1963)   \n",
       "121     7327     4.0                                     Persona (1966)   \n",
       "28      1136     4.0             Monty Python and the Holy Grail (1975)   \n",
       "31      1199     4.0                                      Brazil (1985)   \n",
       "32      1201     4.0  Good, the Bad and the Ugly, The (Buono, il bru...   \n",
       "39      1232     4.0                                     Stalker (1979)   \n",
       "41      1252     4.0                                   Chinatown (1974)   \n",
       "\n",
       "                               genres  \n",
       "21             Adventure|Drama|Sci-Fi  \n",
       "33                Adventure|Drama|War  \n",
       "35                   Action|Drama|War  \n",
       "40                      Drama|Fantasy  \n",
       "121                             Drama  \n",
       "28           Adventure|Comedy|Fantasy  \n",
       "31                     Fantasy|Sci-Fi  \n",
       "32           Action|Adventure|Western  \n",
       "39               Drama|Mystery|Sci-Fi  \n",
       "41   Crime|Film-Noir|Mystery|Thriller  "
      ]
     },
     "execution_count": 22,
     "metadata": {},
     "output_type": "execute_result"
    }
   ],
   "source": [
    "# Check the actual rating by user 50\n",
    "actual_top10(50, master)"
   ]
  },
  {
   "cell_type": "markdown",
   "metadata": {},
   "source": [
    "### Case 2: User id = 100\n",
    "According to UserId=100's ratings, this person likes American romantic comedy. Our recommendation are mostly romantic comedies and dramas. We would say that our recommendation seems to align with this person’s interests. \n"
   ]
  },
  {
   "cell_type": "markdown",
   "metadata": {},
   "source": [
    "#### Recommendation for User Id 100"
   ]
  },
  {
   "cell_type": "code",
   "execution_count": 23,
   "metadata": {
    "scrolled": true
   },
   "outputs": [
    {
     "data": {
      "text/html": [
       "<div>\n",
       "<style scoped>\n",
       "    .dataframe tbody tr th:only-of-type {\n",
       "        vertical-align: middle;\n",
       "    }\n",
       "\n",
       "    .dataframe tbody tr th {\n",
       "        vertical-align: top;\n",
       "    }\n",
       "\n",
       "    .dataframe thead th {\n",
       "        text-align: right;\n",
       "    }\n",
       "</style>\n",
       "<table border=\"1\" class=\"dataframe\">\n",
       "  <thead>\n",
       "    <tr style=\"text-align: right;\">\n",
       "      <th></th>\n",
       "      <th>movieId</th>\n",
       "      <th>pred_rating</th>\n",
       "      <th>title</th>\n",
       "      <th>genres</th>\n",
       "    </tr>\n",
       "  </thead>\n",
       "  <tbody>\n",
       "    <tr>\n",
       "      <th>42</th>\n",
       "      <td>53</td>\n",
       "      <td>4.255715</td>\n",
       "      <td>Lamerica (1994)</td>\n",
       "      <td>Adventure|Drama</td>\n",
       "    </tr>\n",
       "    <tr>\n",
       "      <th>33</th>\n",
       "      <td>43</td>\n",
       "      <td>4.253871</td>\n",
       "      <td>Restoration (1995)</td>\n",
       "      <td>Drama</td>\n",
       "    </tr>\n",
       "    <tr>\n",
       "      <th>446</th>\n",
       "      <td>543</td>\n",
       "      <td>3.989054</td>\n",
       "      <td>So I Married an Axe Murderer (1993)</td>\n",
       "      <td>Comedy|Romance|Thriller</td>\n",
       "    </tr>\n",
       "    <tr>\n",
       "      <th>131</th>\n",
       "      <td>171</td>\n",
       "      <td>3.970505</td>\n",
       "      <td>Jeffrey (1995)</td>\n",
       "      <td>Comedy|Drama</td>\n",
       "    </tr>\n",
       "    <tr>\n",
       "      <th>219</th>\n",
       "      <td>276</td>\n",
       "      <td>3.968871</td>\n",
       "      <td>Milk Money (1994)</td>\n",
       "      <td>Comedy|Romance</td>\n",
       "    </tr>\n",
       "    <tr>\n",
       "      <th>367</th>\n",
       "      <td>452</td>\n",
       "      <td>3.883818</td>\n",
       "      <td>Widows' Peak (1994)</td>\n",
       "      <td>Drama</td>\n",
       "    </tr>\n",
       "    <tr>\n",
       "      <th>430</th>\n",
       "      <td>523</td>\n",
       "      <td>3.882145</td>\n",
       "      <td>Ruby in Paradise (1993)</td>\n",
       "      <td>Drama</td>\n",
       "    </tr>\n",
       "    <tr>\n",
       "      <th>387</th>\n",
       "      <td>475</td>\n",
       "      <td>3.843787</td>\n",
       "      <td>In the Name of the Father (1993)</td>\n",
       "      <td>Drama</td>\n",
       "    </tr>\n",
       "    <tr>\n",
       "      <th>306</th>\n",
       "      <td>371</td>\n",
       "      <td>3.828992</td>\n",
       "      <td>Paper, The (1994)</td>\n",
       "      <td>Comedy|Drama</td>\n",
       "    </tr>\n",
       "    <tr>\n",
       "      <th>83</th>\n",
       "      <td>106</td>\n",
       "      <td>3.823182</td>\n",
       "      <td>Nobody Loves Me (Keiner liebt mich) (1994)</td>\n",
       "      <td>Comedy|Drama</td>\n",
       "    </tr>\n",
       "  </tbody>\n",
       "</table>\n",
       "</div>"
      ],
      "text/plain": [
       "     movieId  pred_rating                                       title  \\\n",
       "42        53     4.255715                             Lamerica (1994)   \n",
       "33        43     4.253871                          Restoration (1995)   \n",
       "446      543     3.989054         So I Married an Axe Murderer (1993)   \n",
       "131      171     3.970505                              Jeffrey (1995)   \n",
       "219      276     3.968871                           Milk Money (1994)   \n",
       "367      452     3.883818                         Widows' Peak (1994)   \n",
       "430      523     3.882145                     Ruby in Paradise (1993)   \n",
       "387      475     3.843787            In the Name of the Father (1993)   \n",
       "306      371     3.828992                           Paper, The (1994)   \n",
       "83       106     3.823182  Nobody Loves Me (Keiner liebt mich) (1994)   \n",
       "\n",
       "                      genres  \n",
       "42           Adventure|Drama  \n",
       "33                     Drama  \n",
       "446  Comedy|Romance|Thriller  \n",
       "131             Comedy|Drama  \n",
       "219           Comedy|Romance  \n",
       "367                    Drama  \n",
       "430                    Drama  \n",
       "387                    Drama  \n",
       "306             Comedy|Drama  \n",
       "83              Comedy|Drama  "
      ]
     },
     "execution_count": 23,
     "metadata": {},
     "output_type": "execute_result"
    }
   ],
   "source": [
    "# Test the function with user_id 100\n",
    "pred_rating(100, master).head(10)"
   ]
  },
  {
   "cell_type": "markdown",
   "metadata": {},
   "source": [
    "#### Profile of User id 100"
   ]
  },
  {
   "cell_type": "code",
   "execution_count": 24,
   "metadata": {},
   "outputs": [
    {
     "data": {
      "text/html": [
       "<div>\n",
       "<style scoped>\n",
       "    .dataframe tbody tr th:only-of-type {\n",
       "        vertical-align: middle;\n",
       "    }\n",
       "\n",
       "    .dataframe tbody tr th {\n",
       "        vertical-align: top;\n",
       "    }\n",
       "\n",
       "    .dataframe thead th {\n",
       "        text-align: right;\n",
       "    }\n",
       "</style>\n",
       "<table border=\"1\" class=\"dataframe\">\n",
       "  <thead>\n",
       "    <tr style=\"text-align: right;\">\n",
       "      <th></th>\n",
       "      <th>movieId</th>\n",
       "      <th>rating</th>\n",
       "      <th>title</th>\n",
       "      <th>genres</th>\n",
       "    </tr>\n",
       "  </thead>\n",
       "  <tbody>\n",
       "    <tr>\n",
       "      <th>86</th>\n",
       "      <td>1958</td>\n",
       "      <td>5.0</td>\n",
       "      <td>Terms of Endearment (1983)</td>\n",
       "      <td>Comedy|Drama</td>\n",
       "    </tr>\n",
       "    <tr>\n",
       "      <th>101</th>\n",
       "      <td>2423</td>\n",
       "      <td>5.0</td>\n",
       "      <td>Christmas Vacation (National Lampoon's Christm...</td>\n",
       "      <td>Comedy</td>\n",
       "    </tr>\n",
       "    <tr>\n",
       "      <th>137</th>\n",
       "      <td>5620</td>\n",
       "      <td>5.0</td>\n",
       "      <td>Sweet Home Alabama (2002)</td>\n",
       "      <td>Comedy|Romance</td>\n",
       "    </tr>\n",
       "    <tr>\n",
       "      <th>55</th>\n",
       "      <td>1101</td>\n",
       "      <td>5.0</td>\n",
       "      <td>Top Gun (1986)</td>\n",
       "      <td>Action|Romance</td>\n",
       "    </tr>\n",
       "    <tr>\n",
       "      <th>125</th>\n",
       "      <td>4041</td>\n",
       "      <td>5.0</td>\n",
       "      <td>Officer and a Gentleman, An (1982)</td>\n",
       "      <td>Drama|Romance</td>\n",
       "    </tr>\n",
       "    <tr>\n",
       "      <th>70</th>\n",
       "      <td>1307</td>\n",
       "      <td>4.5</td>\n",
       "      <td>When Harry Met Sally... (1989)</td>\n",
       "      <td>Comedy|Romance</td>\n",
       "    </tr>\n",
       "    <tr>\n",
       "      <th>84</th>\n",
       "      <td>1912</td>\n",
       "      <td>4.5</td>\n",
       "      <td>Out of Sight (1998)</td>\n",
       "      <td>Comedy|Crime|Drama|Romance|Thriller</td>\n",
       "    </tr>\n",
       "    <tr>\n",
       "      <th>82</th>\n",
       "      <td>1777</td>\n",
       "      <td>4.5</td>\n",
       "      <td>Wedding Singer, The (1998)</td>\n",
       "      <td>Comedy|Romance</td>\n",
       "    </tr>\n",
       "    <tr>\n",
       "      <th>81</th>\n",
       "      <td>1680</td>\n",
       "      <td>4.5</td>\n",
       "      <td>Sliding Doors (1998)</td>\n",
       "      <td>Drama|Romance</td>\n",
       "    </tr>\n",
       "    <tr>\n",
       "      <th>80</th>\n",
       "      <td>1678</td>\n",
       "      <td>4.5</td>\n",
       "      <td>Joy Luck Club, The (1993)</td>\n",
       "      <td>Drama|Romance</td>\n",
       "    </tr>\n",
       "  </tbody>\n",
       "</table>\n",
       "</div>"
      ],
      "text/plain": [
       "     movieId  rating                                              title  \\\n",
       "86      1958     5.0                         Terms of Endearment (1983)   \n",
       "101     2423     5.0  Christmas Vacation (National Lampoon's Christm...   \n",
       "137     5620     5.0                          Sweet Home Alabama (2002)   \n",
       "55      1101     5.0                                     Top Gun (1986)   \n",
       "125     4041     5.0                 Officer and a Gentleman, An (1982)   \n",
       "70      1307     4.5                     When Harry Met Sally... (1989)   \n",
       "84      1912     4.5                                Out of Sight (1998)   \n",
       "82      1777     4.5                         Wedding Singer, The (1998)   \n",
       "81      1680     4.5                               Sliding Doors (1998)   \n",
       "80      1678     4.5                          Joy Luck Club, The (1993)   \n",
       "\n",
       "                                  genres  \n",
       "86                          Comedy|Drama  \n",
       "101                               Comedy  \n",
       "137                       Comedy|Romance  \n",
       "55                        Action|Romance  \n",
       "125                        Drama|Romance  \n",
       "70                        Comedy|Romance  \n",
       "84   Comedy|Crime|Drama|Romance|Thriller  \n",
       "82                        Comedy|Romance  \n",
       "81                         Drama|Romance  \n",
       "80                         Drama|Romance  "
      ]
     },
     "execution_count": 24,
     "metadata": {},
     "output_type": "execute_result"
    }
   ],
   "source": [
    "# Check the actual rating by user 100\n",
    "actual_top10(100, master)"
   ]
  },
  {
   "cell_type": "markdown",
   "metadata": {},
   "source": [
    "### Case 3: User id = 150\n",
    "UserId=150's reveals a higher preference for science fiction and action. But our model recommends mainly dramas and romantic comedies. Our recommendation seems very off from his/her interest. \n",
    "User 150 rated only 26 movies. Given the fact that the minimum number of ratings per person is 20, we can consider Y as a relatively new user with less available information. This may explain that the model does not perform well in this case."
   ]
  },
  {
   "cell_type": "markdown",
   "metadata": {},
   "source": [
    "#### Recommendation for user id 150"
   ]
  },
  {
   "cell_type": "code",
   "execution_count": 25,
   "metadata": {},
   "outputs": [
    {
     "data": {
      "text/html": [
       "<div>\n",
       "<style scoped>\n",
       "    .dataframe tbody tr th:only-of-type {\n",
       "        vertical-align: middle;\n",
       "    }\n",
       "\n",
       "    .dataframe tbody tr th {\n",
       "        vertical-align: top;\n",
       "    }\n",
       "\n",
       "    .dataframe thead th {\n",
       "        text-align: right;\n",
       "    }\n",
       "</style>\n",
       "<table border=\"1\" class=\"dataframe\">\n",
       "  <thead>\n",
       "    <tr style=\"text-align: right;\">\n",
       "      <th></th>\n",
       "      <th>movieId</th>\n",
       "      <th>pred_rating</th>\n",
       "      <th>title</th>\n",
       "      <th>genres</th>\n",
       "    </tr>\n",
       "  </thead>\n",
       "  <tbody>\n",
       "    <tr>\n",
       "      <th>225</th>\n",
       "      <td>276</td>\n",
       "      <td>4.935817</td>\n",
       "      <td>Milk Money (1994)</td>\n",
       "      <td>Comedy|Romance</td>\n",
       "    </tr>\n",
       "    <tr>\n",
       "      <th>461</th>\n",
       "      <td>543</td>\n",
       "      <td>4.856407</td>\n",
       "      <td>So I Married an Axe Murderer (1993)</td>\n",
       "      <td>Comedy|Romance|Thriller</td>\n",
       "    </tr>\n",
       "    <tr>\n",
       "      <th>40</th>\n",
       "      <td>53</td>\n",
       "      <td>4.834277</td>\n",
       "      <td>Lamerica (1994)</td>\n",
       "      <td>Adventure|Drama</td>\n",
       "    </tr>\n",
       "    <tr>\n",
       "      <th>32</th>\n",
       "      <td>43</td>\n",
       "      <td>4.829269</td>\n",
       "      <td>Restoration (1995)</td>\n",
       "      <td>Drama</td>\n",
       "    </tr>\n",
       "    <tr>\n",
       "      <th>379</th>\n",
       "      <td>452</td>\n",
       "      <td>4.758502</td>\n",
       "      <td>Widows' Peak (1994)</td>\n",
       "      <td>Drama</td>\n",
       "    </tr>\n",
       "    <tr>\n",
       "      <th>7</th>\n",
       "      <td>12</td>\n",
       "      <td>4.738980</td>\n",
       "      <td>Dracula: Dead and Loving It (1995)</td>\n",
       "      <td>Comedy|Horror</td>\n",
       "    </tr>\n",
       "    <tr>\n",
       "      <th>316</th>\n",
       "      <td>371</td>\n",
       "      <td>4.723426</td>\n",
       "      <td>Paper, The (1994)</td>\n",
       "      <td>Comedy|Drama</td>\n",
       "    </tr>\n",
       "    <tr>\n",
       "      <th>399</th>\n",
       "      <td>475</td>\n",
       "      <td>4.661899</td>\n",
       "      <td>In the Name of the Father (1993)</td>\n",
       "      <td>Drama</td>\n",
       "    </tr>\n",
       "    <tr>\n",
       "      <th>282</th>\n",
       "      <td>337</td>\n",
       "      <td>4.660026</td>\n",
       "      <td>What's Eating Gilbert Grape (1993)</td>\n",
       "      <td>Drama</td>\n",
       "    </tr>\n",
       "    <tr>\n",
       "      <th>114</th>\n",
       "      <td>154</td>\n",
       "      <td>4.655888</td>\n",
       "      <td>Beauty of the Day (Belle de jour) (1967)</td>\n",
       "      <td>Drama</td>\n",
       "    </tr>\n",
       "  </tbody>\n",
       "</table>\n",
       "</div>"
      ],
      "text/plain": [
       "     movieId  pred_rating                                     title  \\\n",
       "225      276     4.935817                         Milk Money (1994)   \n",
       "461      543     4.856407       So I Married an Axe Murderer (1993)   \n",
       "40        53     4.834277                           Lamerica (1994)   \n",
       "32        43     4.829269                        Restoration (1995)   \n",
       "379      452     4.758502                       Widows' Peak (1994)   \n",
       "7         12     4.738980        Dracula: Dead and Loving It (1995)   \n",
       "316      371     4.723426                         Paper, The (1994)   \n",
       "399      475     4.661899          In the Name of the Father (1993)   \n",
       "282      337     4.660026        What's Eating Gilbert Grape (1993)   \n",
       "114      154     4.655888  Beauty of the Day (Belle de jour) (1967)   \n",
       "\n",
       "                      genres  \n",
       "225           Comedy|Romance  \n",
       "461  Comedy|Romance|Thriller  \n",
       "40           Adventure|Drama  \n",
       "32                     Drama  \n",
       "379                    Drama  \n",
       "7              Comedy|Horror  \n",
       "316             Comedy|Drama  \n",
       "399                    Drama  \n",
       "282                    Drama  \n",
       "114                    Drama  "
      ]
     },
     "execution_count": 25,
     "metadata": {},
     "output_type": "execute_result"
    }
   ],
   "source": [
    "# Test the function with user_id 150\n",
    "pred_rating(150, master).head(10)"
   ]
  },
  {
   "cell_type": "markdown",
   "metadata": {},
   "source": [
    "#### Profile of User id 150"
   ]
  },
  {
   "cell_type": "code",
   "execution_count": 26,
   "metadata": {
    "scrolled": true
   },
   "outputs": [
    {
     "data": {
      "text/html": [
       "<div>\n",
       "<style scoped>\n",
       "    .dataframe tbody tr th:only-of-type {\n",
       "        vertical-align: middle;\n",
       "    }\n",
       "\n",
       "    .dataframe tbody tr th {\n",
       "        vertical-align: top;\n",
       "    }\n",
       "\n",
       "    .dataframe thead th {\n",
       "        text-align: right;\n",
       "    }\n",
       "</style>\n",
       "<table border=\"1\" class=\"dataframe\">\n",
       "  <thead>\n",
       "    <tr style=\"text-align: right;\">\n",
       "      <th></th>\n",
       "      <th>movieId</th>\n",
       "      <th>rating</th>\n",
       "      <th>title</th>\n",
       "      <th>genres</th>\n",
       "    </tr>\n",
       "  </thead>\n",
       "  <tbody>\n",
       "    <tr>\n",
       "      <th>25</th>\n",
       "      <td>1356</td>\n",
       "      <td>5.0</td>\n",
       "      <td>Star Trek: First Contact (1996)</td>\n",
       "      <td>Action|Adventure|Sci-Fi|Thriller</td>\n",
       "    </tr>\n",
       "    <tr>\n",
       "      <th>5</th>\n",
       "      <td>32</td>\n",
       "      <td>5.0</td>\n",
       "      <td>Twelve Monkeys (a.k.a. 12 Monkeys) (1995)</td>\n",
       "      <td>Mystery|Sci-Fi|Thriller</td>\n",
       "    </tr>\n",
       "    <tr>\n",
       "      <th>12</th>\n",
       "      <td>141</td>\n",
       "      <td>5.0</td>\n",
       "      <td>Birdcage, The (1996)</td>\n",
       "      <td>Comedy</td>\n",
       "    </tr>\n",
       "    <tr>\n",
       "      <th>17</th>\n",
       "      <td>648</td>\n",
       "      <td>4.0</td>\n",
       "      <td>Mission: Impossible (1996)</td>\n",
       "      <td>Action|Adventure|Mystery|Thriller</td>\n",
       "    </tr>\n",
       "    <tr>\n",
       "      <th>2</th>\n",
       "      <td>6</td>\n",
       "      <td>4.0</td>\n",
       "      <td>Heat (1995)</td>\n",
       "      <td>Action|Crime|Thriller</td>\n",
       "    </tr>\n",
       "    <tr>\n",
       "      <th>4</th>\n",
       "      <td>25</td>\n",
       "      <td>4.0</td>\n",
       "      <td>Leaving Las Vegas (1995)</td>\n",
       "      <td>Drama|Romance</td>\n",
       "    </tr>\n",
       "    <tr>\n",
       "      <th>6</th>\n",
       "      <td>36</td>\n",
       "      <td>4.0</td>\n",
       "      <td>Dead Man Walking (1995)</td>\n",
       "      <td>Crime|Drama</td>\n",
       "    </tr>\n",
       "    <tr>\n",
       "      <th>7</th>\n",
       "      <td>52</td>\n",
       "      <td>4.0</td>\n",
       "      <td>Mighty Aphrodite (1995)</td>\n",
       "      <td>Comedy|Drama|Romance</td>\n",
       "    </tr>\n",
       "    <tr>\n",
       "      <th>23</th>\n",
       "      <td>805</td>\n",
       "      <td>4.0</td>\n",
       "      <td>Time to Kill, A (1996)</td>\n",
       "      <td>Drama|Thriller</td>\n",
       "    </tr>\n",
       "    <tr>\n",
       "      <th>20</th>\n",
       "      <td>780</td>\n",
       "      <td>4.0</td>\n",
       "      <td>Independence Day (a.k.a. ID4) (1996)</td>\n",
       "      <td>Action|Adventure|Sci-Fi|Thriller</td>\n",
       "    </tr>\n",
       "  </tbody>\n",
       "</table>\n",
       "</div>"
      ],
      "text/plain": [
       "    movieId  rating                                      title  \\\n",
       "25     1356     5.0            Star Trek: First Contact (1996)   \n",
       "5        32     5.0  Twelve Monkeys (a.k.a. 12 Monkeys) (1995)   \n",
       "12      141     5.0                       Birdcage, The (1996)   \n",
       "17      648     4.0                 Mission: Impossible (1996)   \n",
       "2         6     4.0                                Heat (1995)   \n",
       "4        25     4.0                   Leaving Las Vegas (1995)   \n",
       "6        36     4.0                    Dead Man Walking (1995)   \n",
       "7        52     4.0                    Mighty Aphrodite (1995)   \n",
       "23      805     4.0                     Time to Kill, A (1996)   \n",
       "20      780     4.0       Independence Day (a.k.a. ID4) (1996)   \n",
       "\n",
       "                               genres  \n",
       "25   Action|Adventure|Sci-Fi|Thriller  \n",
       "5             Mystery|Sci-Fi|Thriller  \n",
       "12                             Comedy  \n",
       "17  Action|Adventure|Mystery|Thriller  \n",
       "2               Action|Crime|Thriller  \n",
       "4                       Drama|Romance  \n",
       "6                         Crime|Drama  \n",
       "7                Comedy|Drama|Romance  \n",
       "23                     Drama|Thriller  \n",
       "20   Action|Adventure|Sci-Fi|Thriller  "
      ]
     },
     "execution_count": 26,
     "metadata": {},
     "output_type": "execute_result"
    }
   ],
   "source": [
    "# Check the actual rating by user 150\n",
    "actual_top10(150, master)"
   ]
  },
  {
   "cell_type": "markdown",
   "metadata": {},
   "source": [
    "We found that our prediction model did not seem to be far from their preferences. But, for a real evaluation, we need to experiment with real people with A/B testing. "
   ]
  },
  {
   "cell_type": "code",
   "execution_count": null,
   "metadata": {},
   "outputs": [],
   "source": []
  }
 ],
 "metadata": {
  "kernelspec": {
   "display_name": "Python (learn-env)",
   "language": "python",
   "name": "learn-env"
  },
  "language_info": {
   "codemirror_mode": {
    "name": "ipython",
    "version": 3
   },
   "file_extension": ".py",
   "mimetype": "text/x-python",
   "name": "python",
   "nbconvert_exporter": "python",
   "pygments_lexer": "ipython3",
   "version": "3.8.5"
  }
 },
 "nbformat": 4,
 "nbformat_minor": 4
}
