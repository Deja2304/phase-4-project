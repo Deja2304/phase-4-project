{
 "cells": [
  {
   "cell_type": "markdown",
   "metadata": {},
   "source": [
    "## Collaborative Filtering Recommendation System\n",
    "\n",
    "Contents of this notebook \n",
    "1. Modeling \n",
    "   - Memory-Based Methods: KNNBasic, KNNMeans, KNNBasline \n",
    "   - Matrix Factorization: SVD\n",
    "2. Building Top 5 movie recommendation system\n",
    "3. Evaluation of our recommendation system  "
   ]
  },
  {
   "cell_type": "markdown",
   "metadata": {},
   "source": [
    "In this notebook, we use Collaborative Filtering to make recommendations to movie users. The technique is based on the idea that users similar to me can be used to predict how much I will like a particular product those users have used but I have not.\n",
    "\n",
    "We look at recommender systems based on the k-Nearest Neighbour (kNN) models and Singular Value Decomposition (SVD) model, using the surprise library. For model selection, we use a root mean squared error (RMSE) as validation metric. \n"
   ]
  },
  {
   "cell_type": "code",
   "execution_count": 7,
   "metadata": {},
   "outputs": [],
   "source": [
    "import pandas as pd\n",
    "import numpy as np\n",
    "import matplotlib.pyplot as plt\n",
    "%matplotlib inline\n",
    "\n",
    "\n",
    "from surprise.prediction_algorithms import knns\n",
    "from surprise.similarities import cosine, msd, pearson\n",
    "from surprise import accuracy\n",
    "from surprise import Reader, Dataset\n",
    "from surprise.model_selection import train_test_split, cross_validate, GridSearchCV\n",
    "from surprise.prediction_algorithms import KNNWithMeans, KNNBasic, KNNBaseline, SVD, NMF\n",
    "import warnings"
   ]
  },
  {
   "cell_type": "code",
   "execution_count": 8,
   "metadata": {},
   "outputs": [],
   "source": [
    "# read master data\n",
    "master = pd.read_csv('Data/master.csv')\n",
    "\n",
    "# Drop unnecessary columns\n",
    "master_1 = master.loc[:, ['movieId', 'userId', 'rating']]\n",
    "master_1.drop_duplicates(inplace=True)"
   ]
  },
  {
   "cell_type": "markdown",
   "metadata": {},
   "source": [
    "# 1. Modeling "
   ]
  },
  {
   "cell_type": "markdown",
   "metadata": {},
   "source": [
    "\n",
    "## Memory-Based Methods: KNNBasic, KNNMeans, KNNBasline\n"
   ]
  },
  {
   "cell_type": "markdown",
   "metadata": {},
   "source": [
    "Check!! how many percent of movies has ratings. \n",
    "Insights: The majority of entries is zero. With too many zeros, the distance between similar items in KNN model will be very large."
   ]
  },
  {
   "cell_type": "markdown",
   "metadata": {},
   "source": [
    "Setting up environment to use surprise library"
   ]
  },
  {
   "cell_type": "code",
   "execution_count": 9,
   "metadata": {},
   "outputs": [],
   "source": [
    "# read new_df as Surprise dataset \n",
    "# specify the range of rating 0.5-5 (defalt setting is 1-5)\n",
    "reader = Reader(rating_scale =(0.5, 5) ) \n",
    "df = Dataset.load_from_df(master_1,reader)"
   ]
  },
  {
   "cell_type": "code",
   "execution_count": 14,
   "metadata": {},
   "outputs": [],
   "source": [
    "#Train test split with test size of 20% \n",
    "trainset, testset = train_test_split(df, test_size=0.2)"
   ]
  },
  {
   "cell_type": "code",
   "execution_count": 13,
   "metadata": {},
   "outputs": [
    {
     "name": "stdout",
     "output_type": "stream",
     "text": [
      "Number of users:  9724\n",
      "Number of items:  610\n"
     ]
    }
   ],
   "source": [
    "# report how many users and items we have in our dataset\n",
    "dataset = df.build_full_trainset()\n",
    "\n",
    "print('Number of users: ',dataset.n_users)\n",
    "print('Number of items: ',dataset.n_items)"
   ]
  },
  {
   "cell_type": "code",
   "execution_count": 11,
   "metadata": {},
   "outputs": [
    {
     "name": "stdout",
     "output_type": "stream",
     "text": [
      "Min rating: 0.5\n",
      "Max rating: 5.0\n"
     ]
    }
   ],
   "source": [
    "# the range of ratings \n",
    "print('Min rating:', master_1.rating.min())\n",
    "print('Max rating:', master_1.rating.max())"
   ]
  },
  {
   "cell_type": "markdown",
   "metadata": {},
   "source": [
    "Three different types of KNN models:\n",
    "\n",
    "kNNBasic: A basic collaborative filtering algorithm. It find similarities between items based on user ratings, and use that information to estimate unkown ratings\n",
    "kNNWithMeans: This is the similar algorithm as the basic KNN model, except it takes into account the mean rating of each item. \n",
    "kNNWithBasline: This takes into account a baseline rating. This adds biases for items and users.\n",
    "\n",
    "For each model, we run a cross_validate method to find the one with the highest root mean squared error (rsme) score. Model tuning results are in .csv files. "
   ]
  },
  {
   "cell_type": "markdown",
   "metadata": {},
   "source": [
    "We tune hyperparameters for each model. We focuses on k factor and the similarity measures (Cosine similarity and Pearson similarity). "
   ]
  },
  {
   "cell_type": "code",
   "execution_count": 22,
   "metadata": {},
   "outputs": [],
   "source": [
    "# Two similarity options \n",
    "\n",
    "sim_cos = {'name':'cosine', 'user_based':False}\n",
    "sim_pearson = {'name':'pearson', 'user_based':False}\n",
    "\n",
    "sim_options = [sim_cos, sim_pearson]\n",
    "\n",
    "# Ks \n",
    "list_of_ks = [10,20,40]"
   ]
  },
  {
   "cell_type": "code",
   "execution_count": 23,
   "metadata": {},
   "outputs": [],
   "source": [
    "# csv files to store results \n",
    "import csv\n",
    "\n",
    "with open('model_tuning.csv', 'w') as f:\n",
    "    writer = csv.writer(f)\n",
    "    writer.writerow(['model', 'similarity_metrics', 'k', 'RMSE'])\n",
    "    "
   ]
  },
  {
   "cell_type": "markdown",
   "metadata": {},
   "source": [
    "### KNNBasic"
   ]
  },
  {
   "cell_type": "code",
   "execution_count": 26,
   "metadata": {},
   "outputs": [
    {
     "name": "stdout",
     "output_type": "stream",
     "text": [
      "Calculating sim_option = cosine and k = 10:\n",
      "RMSE 0.9930213329095913\n",
      "Calculating sim_option = cosine and k = 20:\n",
      "RMSE 0.9824993770645793\n",
      "Calculating sim_option = cosine and k = 40:\n",
      "RMSE 0.9808621186224512\n",
      "Calculating sim_option = pearson and k = 10:\n",
      "RMSE 0.9979983289646622\n",
      "Calculating sim_option = pearson and k = 20:\n",
      "RMSE 0.9873806177267733\n",
      "Calculating sim_option = pearson and k = 40:\n",
      "RMSE 0.985038505449967\n"
     ]
    }
   ],
   "source": [
    "# Hyperparameter Tuning\n",
    "# KNNBasic \n",
    "for sim in sim_options:\n",
    "\n",
    "    for k in list_of_ks:\n",
    "        \n",
    "        print(\n",
    "            'Calculating sim_option = ' + str(sim['name']) + \\\n",
    "            ' and k = ' + str(k) + ':' )        \n",
    "        algo = KNNBasic(k = k, sim_options = sim)\n",
    "        results = cross_validate(algo, df, measures=['RMSE'], cv=3, n_jobs = -1)\n",
    "        print('RMSE', np.mean(results['test_rmse']))\n",
    "        \n",
    "        \n",
    "        with open('model_tuning.csv', 'a') as f:\n",
    "            writer = csv.writer(f)\n",
    "            writer.writerow(['KNNBasic', sim['name'], str(k), str(np.mean(results['test_rmse']))])\n"
   ]
  },
  {
   "cell_type": "markdown",
   "metadata": {},
   "source": [
    "Insights: For KNN Basic, pick {sim_option = cosine and k = 40} , RMSE 0.9808621186224512"
   ]
  },
  {
   "cell_type": "markdown",
   "metadata": {},
   "source": [
    "### KNNMean"
   ]
  },
  {
   "cell_type": "code",
   "execution_count": 27,
   "metadata": {},
   "outputs": [
    {
     "name": "stdout",
     "output_type": "stream",
     "text": [
      "Calculating sim_option = cosine and k = 10:\n",
      "RMSE 0.9204968090322797\n",
      "Calculating sim_option = cosine and k = 20:\n",
      "RMSE 0.911619115853037\n",
      "Calculating sim_option = cosine and k = 40:\n",
      "RMSE 0.9096555008170871\n",
      "Calculating sim_option = pearson and k = 10:\n",
      "RMSE 0.9188883365405717\n",
      "Calculating sim_option = pearson and k = 20:\n",
      "RMSE 0.9103220721053741\n",
      "Calculating sim_option = pearson and k = 40:\n",
      "RMSE 0.9102061759576726\n"
     ]
    }
   ],
   "source": [
    "# Hyperparameter Tuning\n",
    "# KNNMeans \n",
    "for sim in sim_options:\n",
    "\n",
    "    for k in list_of_ks:\n",
    "        \n",
    "        print(\n",
    "            'Calculating sim_option = ' + str(sim['name']) + \\\n",
    "            ' and k = ' + str(k) + ':' )        \n",
    "        algo = KNNWithMeans(k = k, sim_options = sim)\n",
    "        results = cross_validate(algo, df, measures=['RMSE'], cv=3, n_jobs = -1)\n",
    "        print('RMSE', np.mean(results['test_rmse']))\n",
    "        \n",
    "        with open('model_tuning.csv', 'a') as f:\n",
    "            writer = csv.writer(f)\n",
    "            writer.writerow(['KNNMeans', sim['name'], str(k), str(np.mean(results['test_rmse']))])\n"
   ]
  },
  {
   "cell_type": "markdown",
   "metadata": {},
   "source": [
    "Insights: For KNN Means, pick {sim_option = cosine and k = 40} , RMSE 0.9096555008170871"
   ]
  },
  {
   "cell_type": "markdown",
   "metadata": {},
   "source": [
    "### KNNBaseline\n",
    "It takes into account a baseline rating. It adds biases for items and users. "
   ]
  },
  {
   "cell_type": "code",
   "execution_count": 28,
   "metadata": {
    "scrolled": true
   },
   "outputs": [
    {
     "name": "stdout",
     "output_type": "stream",
     "text": [
      "Calculating sim_option = cosine and k = 10:\n",
      "RMSE 0.8957094515923046\n",
      "Calculating sim_option = cosine and k = 20:\n",
      "RMSE 0.8891682020394649\n",
      "Calculating sim_option = cosine and k = 40:\n",
      "RMSE 0.8871705452094689\n",
      "Calculating sim_option = pearson and k = 10:\n",
      "RMSE 0.8988347873169286\n",
      "Calculating sim_option = pearson and k = 20:\n",
      "RMSE 0.8909436642603988\n",
      "Calculating sim_option = pearson and k = 40:\n",
      "RMSE 0.8883126361400819\n"
     ]
    }
   ],
   "source": [
    "# Hyperparameter Tuning\n",
    "# KNNBaseline \n",
    "for sim in sim_options:\n",
    "\n",
    "    for k in list_of_ks:\n",
    "        \n",
    "        print(\n",
    "            'Calculating sim_option = ' + str(sim['name']) + \\\n",
    "            ' and k = ' + str(k) + ':' )        \n",
    "        algo = KNNBaseline(k = k, sim_options = sim)\n",
    "        results = cross_validate(algo, df, measures=['RMSE'], cv=3,  n_jobs = -1)\n",
    "        print('RMSE', np.mean(results['test_rmse']))\n",
    "        \n",
    "        with open('model_tuning.csv', 'a') as f:\n",
    "            writer = csv.writer(f)\n",
    "            writer.writerow(['KNNBaseline', sim['name'], str(k), str(np.mean(results['test_rmse']))])\n"
   ]
  },
  {
   "cell_type": "markdown",
   "metadata": {},
   "source": [
    "Insights: For KNN Baseline, pick {sim_option = cosine and k = 40} , RMSE 0.8868368800819563"
   ]
  },
  {
   "cell_type": "markdown",
   "metadata": {},
   "source": [
    "## Matrix Factorization: Support Vector Decomposition (SVD)"
   ]
  },
  {
   "cell_type": "markdown",
   "metadata": {},
   "source": [
    "Matrix factorization is widely used for recommender systems. It can deal better with scalability and sparsity than Memory-based model such as KNNs. Matrix factorization can be done by various methods, but we choose SVD. SVD is the base model used by the winner of 2009 Netflix competition. "
   ]
  },
  {
   "cell_type": "code",
   "execution_count": 29,
   "metadata": {},
   "outputs": [
    {
     "name": "stderr",
     "output_type": "stream",
     "text": [
      "[Parallel(n_jobs=-1)]: Using backend LokyBackend with 8 concurrent workers.\n",
      "[Parallel(n_jobs=-1)]: Done  16 tasks      | elapsed:    2.1s\n",
      "[Parallel(n_jobs=-1)]: Done 112 tasks      | elapsed:   22.5s\n",
      "[Parallel(n_jobs=-1)]: Done 162 out of 162 | elapsed:   42.0s finished\n"
     ]
    }
   ],
   "source": [
    "# Hyperparameter Tuning for SVD\n",
    "# Use Gridsearch\n",
    "\n",
    "param_grid = {'n_factors':[20, 50, 100],'n_epochs': [5, 10, 15], 'lr_all': [0.002, 0.005, 0.01],\n",
    "               'reg_all': [0.04, 0.06]}\n",
    "gs_model = GridSearchCV(SVD, param_grid, cv=3, n_jobs = -1, joblib_verbose=3)\n",
    "gs_model.fit(df)\n"
   ]
  },
  {
   "cell_type": "code",
   "execution_count": 30,
   "metadata": {
    "scrolled": true
   },
   "outputs": [
    {
     "name": "stdout",
     "output_type": "stream",
     "text": [
      "0.8772167256292999\n",
      "{'n_factors': 100, 'n_epochs': 15, 'lr_all': 0.01, 'reg_all': 0.06}\n"
     ]
    }
   ],
   "source": [
    "# print out optimal parameters for SVD after GridSearch\n",
    "print(gs_model.best_score['rmse'])\n",
    "print(gs_model.best_params['rmse'])\n",
    "\n",
    "\n",
    "with open('model_tuning.csv', 'a') as f:\n",
    "    writer = csv.writer(f)\n",
    "    writer.writerow(['SVD', '-', '-', str(gs_model.best_score['rmse'])])\n"
   ]
  },
  {
   "cell_type": "markdown",
   "metadata": {},
   "source": [
    "## Model Selection"
   ]
  },
  {
   "cell_type": "code",
   "execution_count": 35,
   "metadata": {},
   "outputs": [
    {
     "data": {
      "text/html": [
       "<div>\n",
       "<style scoped>\n",
       "    .dataframe tbody tr th:only-of-type {\n",
       "        vertical-align: middle;\n",
       "    }\n",
       "\n",
       "    .dataframe tbody tr th {\n",
       "        vertical-align: top;\n",
       "    }\n",
       "\n",
       "    .dataframe thead th {\n",
       "        text-align: right;\n",
       "    }\n",
       "</style>\n",
       "<table border=\"1\" class=\"dataframe\">\n",
       "  <thead>\n",
       "    <tr style=\"text-align: right;\">\n",
       "      <th></th>\n",
       "      <th>model</th>\n",
       "      <th>similarity_metrics</th>\n",
       "      <th>k</th>\n",
       "      <th>RMSE</th>\n",
       "    </tr>\n",
       "  </thead>\n",
       "  <tbody>\n",
       "    <tr>\n",
       "      <th>24</th>\n",
       "      <td>SVD</td>\n",
       "      <td>-</td>\n",
       "      <td>-</td>\n",
       "      <td>0.877217</td>\n",
       "    </tr>\n",
       "    <tr>\n",
       "      <th>20</th>\n",
       "      <td>KNNBaseline</td>\n",
       "      <td>cosine</td>\n",
       "      <td>40</td>\n",
       "      <td>0.887171</td>\n",
       "    </tr>\n",
       "    <tr>\n",
       "      <th>23</th>\n",
       "      <td>KNNBaseline</td>\n",
       "      <td>pearson</td>\n",
       "      <td>40</td>\n",
       "      <td>0.888313</td>\n",
       "    </tr>\n",
       "    <tr>\n",
       "      <th>19</th>\n",
       "      <td>KNNBaseline</td>\n",
       "      <td>cosine</td>\n",
       "      <td>20</td>\n",
       "      <td>0.889168</td>\n",
       "    </tr>\n",
       "    <tr>\n",
       "      <th>22</th>\n",
       "      <td>KNNBaseline</td>\n",
       "      <td>pearson</td>\n",
       "      <td>20</td>\n",
       "      <td>0.890944</td>\n",
       "    </tr>\n",
       "    <tr>\n",
       "      <th>18</th>\n",
       "      <td>KNNBaseline</td>\n",
       "      <td>cosine</td>\n",
       "      <td>10</td>\n",
       "      <td>0.895709</td>\n",
       "    </tr>\n",
       "    <tr>\n",
       "      <th>21</th>\n",
       "      <td>KNNBaseline</td>\n",
       "      <td>pearson</td>\n",
       "      <td>10</td>\n",
       "      <td>0.898835</td>\n",
       "    </tr>\n",
       "    <tr>\n",
       "      <th>14</th>\n",
       "      <td>KNNMeans</td>\n",
       "      <td>cosine</td>\n",
       "      <td>40</td>\n",
       "      <td>0.909656</td>\n",
       "    </tr>\n",
       "    <tr>\n",
       "      <th>17</th>\n",
       "      <td>KNNMeans</td>\n",
       "      <td>pearson</td>\n",
       "      <td>40</td>\n",
       "      <td>0.910206</td>\n",
       "    </tr>\n",
       "    <tr>\n",
       "      <th>16</th>\n",
       "      <td>KNNMeans</td>\n",
       "      <td>pearson</td>\n",
       "      <td>20</td>\n",
       "      <td>0.910322</td>\n",
       "    </tr>\n",
       "    <tr>\n",
       "      <th>13</th>\n",
       "      <td>KNNMeans</td>\n",
       "      <td>cosine</td>\n",
       "      <td>20</td>\n",
       "      <td>0.911619</td>\n",
       "    </tr>\n",
       "    <tr>\n",
       "      <th>15</th>\n",
       "      <td>KNNMeans</td>\n",
       "      <td>pearson</td>\n",
       "      <td>10</td>\n",
       "      <td>0.918888</td>\n",
       "    </tr>\n",
       "    <tr>\n",
       "      <th>12</th>\n",
       "      <td>KNNMeans</td>\n",
       "      <td>cosine</td>\n",
       "      <td>10</td>\n",
       "      <td>0.920497</td>\n",
       "    </tr>\n",
       "    <tr>\n",
       "      <th>2</th>\n",
       "      <td>KNNBasic</td>\n",
       "      <td>cosine</td>\n",
       "      <td>40</td>\n",
       "      <td>0.977892</td>\n",
       "    </tr>\n",
       "    <tr>\n",
       "      <th>8</th>\n",
       "      <td>KNNBasic</td>\n",
       "      <td>cosine</td>\n",
       "      <td>40</td>\n",
       "      <td>0.980862</td>\n",
       "    </tr>\n",
       "    <tr>\n",
       "      <th>1</th>\n",
       "      <td>KNNBasic</td>\n",
       "      <td>cosine</td>\n",
       "      <td>20</td>\n",
       "      <td>0.982423</td>\n",
       "    </tr>\n",
       "    <tr>\n",
       "      <th>7</th>\n",
       "      <td>KNNBasic</td>\n",
       "      <td>cosine</td>\n",
       "      <td>20</td>\n",
       "      <td>0.982499</td>\n",
       "    </tr>\n",
       "    <tr>\n",
       "      <th>11</th>\n",
       "      <td>KNNBasic</td>\n",
       "      <td>pearson</td>\n",
       "      <td>40</td>\n",
       "      <td>0.985039</td>\n",
       "    </tr>\n",
       "    <tr>\n",
       "      <th>5</th>\n",
       "      <td>KNNBasic</td>\n",
       "      <td>pearson</td>\n",
       "      <td>40</td>\n",
       "      <td>0.986513</td>\n",
       "    </tr>\n",
       "    <tr>\n",
       "      <th>10</th>\n",
       "      <td>KNNBasic</td>\n",
       "      <td>pearson</td>\n",
       "      <td>20</td>\n",
       "      <td>0.987381</td>\n",
       "    </tr>\n",
       "    <tr>\n",
       "      <th>4</th>\n",
       "      <td>KNNBasic</td>\n",
       "      <td>pearson</td>\n",
       "      <td>20</td>\n",
       "      <td>0.988271</td>\n",
       "    </tr>\n",
       "    <tr>\n",
       "      <th>6</th>\n",
       "      <td>KNNBasic</td>\n",
       "      <td>cosine</td>\n",
       "      <td>10</td>\n",
       "      <td>0.993021</td>\n",
       "    </tr>\n",
       "    <tr>\n",
       "      <th>0</th>\n",
       "      <td>KNNBasic</td>\n",
       "      <td>cosine</td>\n",
       "      <td>10</td>\n",
       "      <td>0.993255</td>\n",
       "    </tr>\n",
       "    <tr>\n",
       "      <th>9</th>\n",
       "      <td>KNNBasic</td>\n",
       "      <td>pearson</td>\n",
       "      <td>10</td>\n",
       "      <td>0.997998</td>\n",
       "    </tr>\n",
       "    <tr>\n",
       "      <th>3</th>\n",
       "      <td>KNNBasic</td>\n",
       "      <td>pearson</td>\n",
       "      <td>10</td>\n",
       "      <td>0.998858</td>\n",
       "    </tr>\n",
       "  </tbody>\n",
       "</table>\n",
       "</div>"
      ],
      "text/plain": [
       "          model similarity_metrics   k      RMSE\n",
       "24          SVD                  -   -  0.877217\n",
       "20  KNNBaseline             cosine  40  0.887171\n",
       "23  KNNBaseline            pearson  40  0.888313\n",
       "19  KNNBaseline             cosine  20  0.889168\n",
       "22  KNNBaseline            pearson  20  0.890944\n",
       "18  KNNBaseline             cosine  10  0.895709\n",
       "21  KNNBaseline            pearson  10  0.898835\n",
       "14     KNNMeans             cosine  40  0.909656\n",
       "17     KNNMeans            pearson  40  0.910206\n",
       "16     KNNMeans            pearson  20  0.910322\n",
       "13     KNNMeans             cosine  20  0.911619\n",
       "15     KNNMeans            pearson  10  0.918888\n",
       "12     KNNMeans             cosine  10  0.920497\n",
       "2      KNNBasic             cosine  40  0.977892\n",
       "8      KNNBasic             cosine  40  0.980862\n",
       "1      KNNBasic             cosine  20  0.982423\n",
       "7      KNNBasic             cosine  20  0.982499\n",
       "11     KNNBasic            pearson  40  0.985039\n",
       "5      KNNBasic            pearson  40  0.986513\n",
       "10     KNNBasic            pearson  20  0.987381\n",
       "4      KNNBasic            pearson  20  0.988271\n",
       "6      KNNBasic             cosine  10  0.993021\n",
       "0      KNNBasic             cosine  10  0.993255\n",
       "9      KNNBasic            pearson  10  0.997998\n",
       "3      KNNBasic            pearson  10  0.998858"
      ]
     },
     "execution_count": 35,
     "metadata": {},
     "output_type": "execute_result"
    }
   ],
   "source": [
    "df = pd.read_csv('model_tuning.csv')\n",
    "df.sort_values('RMSE')"
   ]
  },
  {
   "cell_type": "markdown",
   "metadata": {},
   "source": [
    "SVD performed the best in terms of RMSE (0.877). Among KNN models, KNN baseline models performs better than other KNNs, yet SVD is slightly better. \n",
    "\n",
    "To interpret this result, on average, our SVD model estimates ratings with an error of approximately 0.877. On a scale of 0-5 rating, this 0.877 value is not too bad. For example, a rating of 3 compared to 3.8 is not be a significant different. "
   ]
  },
  {
   "cell_type": "code",
   "execution_count": 36,
   "metadata": {},
   "outputs": [
    {
     "data": {
      "text/plain": [
       "<surprise.prediction_algorithms.matrix_factorization.SVD at 0x7f9e0cae3640>"
      ]
     },
     "execution_count": 36,
     "metadata": {},
     "output_type": "execute_result"
    }
   ],
   "source": [
    "# Our Model for Collaborative Filtering Recommendation \n",
    "\n",
    "model = SVD(n_factors=100, n_epochs=15, lr_all=0.01, reg_all=0.06)\n",
    "model.fit(trainset)"
   ]
  },
  {
   "cell_type": "markdown",
   "metadata": {},
   "source": [
    "## 2. Building Movie Recommendation \n",
    "\n",
    "### Top 5 Movie Recommendations to an Existing Customer"
   ]
  },
  {
   "cell_type": "markdown",
   "metadata": {},
   "source": [
    "Using our final mode, we build a recommendation system which provide a top five movie recommendations to an existing customer. \n",
    "In the cell below, we create a function to derive top 5 recommendations for user_id given metadata of the company. In this recommendation function, we first find the movies was not rated by a user, since we don’t want to recommend a movie they’ve already watched. And then, we predict the score of each movie that a user didn’t rate, and find the top 5. "
   ]
  },
  {
   "cell_type": "code",
   "execution_count": 62,
   "metadata": {},
   "outputs": [],
   "source": [
    "# Function to provide top 5 ratings for user i \n",
    "\n",
    "def top5(user_id, master_data):\n",
    "    \n",
    "    '''\n",
    "    Step 1 find the movies that user i didn’t rate \n",
    "    \n",
    "    Step 2 Predict the score of each of the movie that user 50 didn’t rate, and find top 5.\n",
    "    '''\n",
    "    \n",
    "    # step 1 find the movies that user i didn’t rate \n",
    "    # get a list of all movie titles \n",
    "    mids = master_data['title'].unique()\n",
    "    # Get a list of movie ids that user i has rated \n",
    "    mid_i = master_data.loc[master_data['userId']==user_id, 'title']\n",
    "    # from the list of all movie, remove titles user i has rated\n",
    "    mids_to_pred = np.setdiff1d(mids, mid_i)  \n",
    "    \n",
    "    # step 2 Predict the score of each of the movie that user 50 didn’t rate, and find the best one.\n",
    "    # create another dataset with the mids (movie titles). arbitrarily set all the ratings of this test set to 4\n",
    "    testset = [[user_id, mid, 4.] for mid in mids_to_pred]\n",
    "    # Fit the testdata to our model and get predicted ratings\n",
    "    predictions = model.test(testset)\n",
    "    pred_ratings = np.array([pred.est for pred in predictions])\n",
    "    \n",
    "    # Find the index of top 5 predicted ratings\n",
    "    top_5 = pred_ratings.argpartition(-5)[-5:]\n",
    "    # Find the corresponding movie title to recommend \n",
    "    top_5_title = mids_to_pred[i_max_5]\n",
    "    \n",
    "    return print('Top 5 item for user {} is {}'.format(user_id, top_5_title))\n",
    "\n",
    "\n"
   ]
  },
  {
   "cell_type": "code",
   "execution_count": 98,
   "metadata": {},
   "outputs": [],
   "source": [
    "# Function which returns top10 movie titles with ratings that user i actually rated \n",
    "def actual_top10(user_id, master_data):\n",
    "    \n",
    "    rated = master.loc[master_data['userId']==user_id, ['title', 'rating']]\n",
    "    rated = rated.sort_values('rating', ascending=False)[:10]\n",
    "    return rated\n",
    "    "
   ]
  },
  {
   "cell_type": "markdown",
   "metadata": {},
   "source": [
    "## 3. Evaluation of our recommendation system"
   ]
  },
  {
   "cell_type": "markdown",
   "metadata": {},
   "source": [
    "Using the recommendation system we created, we provide a recommendation for several existing users, and compare the model's recommendation with a list of each user's top-rated movies. We assess user ids of 50, 100, and 150.  "
   ]
  },
  {
   "cell_type": "markdown",
   "metadata": {},
   "source": [
    "### Case1: User id = 50\n",
    "According to UserId=50's history, we can see this person likes science fiction and psychological films worldwide. \n",
    "Our recommendation includes french movies, but the musical film, and American slasher films. It seems a little far from his/her taste. \n",
    "This person already rated 310 movies, and the recommendation created among movies not rated by the person. So, the most similar movies are probably already rated by the person."
   ]
  },
  {
   "cell_type": "code",
   "execution_count": 99,
   "metadata": {
    "scrolled": false
   },
   "outputs": [
    {
     "name": "stdout",
     "output_type": "stream",
     "text": [
      "Top 5 item for user 50 is ['Fried Green Tomatoes (1991)'\n",
      " 'Friday the 13th Part VI: Jason Lives (1986)'\n",
      " 'Friday the 13th Part 3: 3D (1982)'\n",
      " 'Friday the 13th Part IV: The Final Chapter (1984)'\n",
      " 'À nous la liberté (Freedom for Us) (1931)']\n"
     ]
    }
   ],
   "source": [
    "# Test the function with user_id 50 \n",
    "top5(50, master)"
   ]
  },
  {
   "cell_type": "code",
   "execution_count": 100,
   "metadata": {
    "scrolled": true
   },
   "outputs": [
    {
     "data": {
      "text/html": [
       "<div>\n",
       "<style scoped>\n",
       "    .dataframe tbody tr th:only-of-type {\n",
       "        vertical-align: middle;\n",
       "    }\n",
       "\n",
       "    .dataframe tbody tr th {\n",
       "        vertical-align: top;\n",
       "    }\n",
       "\n",
       "    .dataframe thead th {\n",
       "        text-align: right;\n",
       "    }\n",
       "</style>\n",
       "<table border=\"1\" class=\"dataframe\">\n",
       "  <thead>\n",
       "    <tr style=\"text-align: right;\">\n",
       "      <th></th>\n",
       "      <th>title</th>\n",
       "      <th>rating</th>\n",
       "    </tr>\n",
       "  </thead>\n",
       "  <tbody>\n",
       "    <tr>\n",
       "      <th>21443</th>\n",
       "      <td>2001: A Space Odyssey (1968)</td>\n",
       "      <td>4.5</td>\n",
       "    </tr>\n",
       "    <tr>\n",
       "      <th>25969</th>\n",
       "      <td>Lawrence of Arabia (1962)</td>\n",
       "      <td>4.5</td>\n",
       "    </tr>\n",
       "    <tr>\n",
       "      <th>26200</th>\n",
       "      <td>Apocalypse Now (1979)</td>\n",
       "      <td>4.5</td>\n",
       "    </tr>\n",
       "    <tr>\n",
       "      <th>28272</th>\n",
       "      <td>8 1/2 (8½) (1963)</td>\n",
       "      <td>4.5</td>\n",
       "    </tr>\n",
       "    <tr>\n",
       "      <th>75595</th>\n",
       "      <td>Persona (1966)</td>\n",
       "      <td>4.0</td>\n",
       "    </tr>\n",
       "    <tr>\n",
       "      <th>24445</th>\n",
       "      <td>Monty Python and the Holy Grail (1975)</td>\n",
       "      <td>4.0</td>\n",
       "    </tr>\n",
       "    <tr>\n",
       "      <th>25644</th>\n",
       "      <td>Brazil (1985)</td>\n",
       "      <td>4.0</td>\n",
       "    </tr>\n",
       "    <tr>\n",
       "      <th>25831</th>\n",
       "      <td>Good, the Bad and the Ugly, The (Buono, il bru...</td>\n",
       "      <td>4.0</td>\n",
       "    </tr>\n",
       "    <tr>\n",
       "      <th>27587</th>\n",
       "      <td>Stalker (1979)</td>\n",
       "      <td>4.0</td>\n",
       "    </tr>\n",
       "    <tr>\n",
       "      <th>28291</th>\n",
       "      <td>Chinatown (1974)</td>\n",
       "      <td>4.0</td>\n",
       "    </tr>\n",
       "  </tbody>\n",
       "</table>\n",
       "</div>"
      ],
      "text/plain": [
       "                                                   title  rating\n",
       "21443                       2001: A Space Odyssey (1968)     4.5\n",
       "25969                          Lawrence of Arabia (1962)     4.5\n",
       "26200                              Apocalypse Now (1979)     4.5\n",
       "28272                                  8 1/2 (8½) (1963)     4.5\n",
       "75595                                     Persona (1966)     4.0\n",
       "24445             Monty Python and the Holy Grail (1975)     4.0\n",
       "25644                                      Brazil (1985)     4.0\n",
       "25831  Good, the Bad and the Ugly, The (Buono, il bru...     4.0\n",
       "27587                                     Stalker (1979)     4.0\n",
       "28291                                   Chinatown (1974)     4.0"
      ]
     },
     "execution_count": 100,
     "metadata": {},
     "output_type": "execute_result"
    }
   ],
   "source": [
    "# Check the actual rating by use 50\n",
    "actual_top10(50, master)"
   ]
  },
  {
   "cell_type": "markdown",
   "metadata": {},
   "source": [
    "### Case 2: User id = 100\n",
    "According to UserId=100's ratings, this person likes American romantic comedy. Our recommendation seems off—our recommendation includes science fiction, horror, some comedy, but not a romantic comedy."
   ]
  },
  {
   "cell_type": "code",
   "execution_count": 101,
   "metadata": {
    "scrolled": true
   },
   "outputs": [
    {
     "name": "stdout",
     "output_type": "stream",
     "text": [
      "Top 5 item for user 100 is ['Fraternity Vacation (1985)' 'Frankie and Johnny (1966)'\n",
      " 'Frankenstein Must Be Destroyed (1969)' 'Frankenstein Unbound (1990)'\n",
      " 'Woman in Gold (2015)']\n"
     ]
    }
   ],
   "source": [
    "# Test the function with user_id 100\n",
    "top5(100, master)"
   ]
  },
  {
   "cell_type": "code",
   "execution_count": 102,
   "metadata": {},
   "outputs": [
    {
     "data": {
      "text/html": [
       "<div>\n",
       "<style scoped>\n",
       "    .dataframe tbody tr th:only-of-type {\n",
       "        vertical-align: middle;\n",
       "    }\n",
       "\n",
       "    .dataframe tbody tr th {\n",
       "        vertical-align: top;\n",
       "    }\n",
       "\n",
       "    .dataframe thead th {\n",
       "        text-align: right;\n",
       "    }\n",
       "</style>\n",
       "<table border=\"1\" class=\"dataframe\">\n",
       "  <thead>\n",
       "    <tr style=\"text-align: right;\">\n",
       "      <th></th>\n",
       "      <th>title</th>\n",
       "      <th>rating</th>\n",
       "    </tr>\n",
       "  </thead>\n",
       "  <tbody>\n",
       "    <tr>\n",
       "      <th>37674</th>\n",
       "      <td>Terms of Endearment (1983)</td>\n",
       "      <td>5.0</td>\n",
       "    </tr>\n",
       "    <tr>\n",
       "      <th>44261</th>\n",
       "      <td>Christmas Vacation (National Lampoon's Christm...</td>\n",
       "      <td>5.0</td>\n",
       "    </tr>\n",
       "    <tr>\n",
       "      <th>68977</th>\n",
       "      <td>Sweet Home Alabama (2002)</td>\n",
       "      <td>5.0</td>\n",
       "    </tr>\n",
       "    <tr>\n",
       "      <th>24100</th>\n",
       "      <td>Top Gun (1986)</td>\n",
       "      <td>5.0</td>\n",
       "    </tr>\n",
       "    <tr>\n",
       "      <th>60795</th>\n",
       "      <td>Officer and a Gentleman, An (1982)</td>\n",
       "      <td>5.0</td>\n",
       "    </tr>\n",
       "    <tr>\n",
       "      <th>30277</th>\n",
       "      <td>When Harry Met Sally... (1989)</td>\n",
       "      <td>4.5</td>\n",
       "    </tr>\n",
       "    <tr>\n",
       "      <th>36972</th>\n",
       "      <td>Out of Sight (1998)</td>\n",
       "      <td>4.5</td>\n",
       "    </tr>\n",
       "    <tr>\n",
       "      <th>36098</th>\n",
       "      <td>Wedding Singer, The (1998)</td>\n",
       "      <td>4.5</td>\n",
       "    </tr>\n",
       "    <tr>\n",
       "      <th>34950</th>\n",
       "      <td>Sliding Doors (1998)</td>\n",
       "      <td>4.5</td>\n",
       "    </tr>\n",
       "    <tr>\n",
       "      <th>34939</th>\n",
       "      <td>Joy Luck Club, The (1993)</td>\n",
       "      <td>4.5</td>\n",
       "    </tr>\n",
       "  </tbody>\n",
       "</table>\n",
       "</div>"
      ],
      "text/plain": [
       "                                                   title  rating\n",
       "37674                         Terms of Endearment (1983)     5.0\n",
       "44261  Christmas Vacation (National Lampoon's Christm...     5.0\n",
       "68977                          Sweet Home Alabama (2002)     5.0\n",
       "24100                                     Top Gun (1986)     5.0\n",
       "60795                 Officer and a Gentleman, An (1982)     5.0\n",
       "30277                     When Harry Met Sally... (1989)     4.5\n",
       "36972                                Out of Sight (1998)     4.5\n",
       "36098                         Wedding Singer, The (1998)     4.5\n",
       "34950                               Sliding Doors (1998)     4.5\n",
       "34939                          Joy Luck Club, The (1993)     4.5"
      ]
     },
     "execution_count": 102,
     "metadata": {},
     "output_type": "execute_result"
    }
   ],
   "source": [
    "# Check the actual rating by user 100\n",
    "actual_top10(100, master)"
   ]
  },
  {
   "cell_type": "markdown",
   "metadata": {},
   "source": [
    "### Case 3: User id = 150\n",
    "UserId=150's ratings tell this person likes American science fiction, comedy, crime, and action. Our recommendation list includes comedy, science fiction, and spy-thriller. Even though the comedy is anime, and the spy thriller is a classic black and while movie, our recommendation to this person seems better than the UserId 50, 100.\n",
    "This person rated only 26 movies."
   ]
  },
  {
   "cell_type": "code",
   "execution_count": 105,
   "metadata": {},
   "outputs": [
    {
     "name": "stdout",
     "output_type": "stream",
     "text": [
      "Top 5 item for user 150 is ['Foreign Correspondent (1940)' 'Forbidden Planet (1956)'\n",
      " 'For the Love of Benji (1977)' 'Forbidden Games (Jeux interdits) (1952)'\n",
      " 'Who Framed Roger Rabbit? (1988)']\n"
     ]
    }
   ],
   "source": [
    "# Test the function with user_id 150\n",
    "top5(150, master)"
   ]
  },
  {
   "cell_type": "code",
   "execution_count": 106,
   "metadata": {
    "scrolled": true
   },
   "outputs": [
    {
     "data": {
      "text/html": [
       "<div>\n",
       "<style scoped>\n",
       "    .dataframe tbody tr th:only-of-type {\n",
       "        vertical-align: middle;\n",
       "    }\n",
       "\n",
       "    .dataframe tbody tr th {\n",
       "        vertical-align: top;\n",
       "    }\n",
       "\n",
       "    .dataframe thead th {\n",
       "        text-align: right;\n",
       "    }\n",
       "</style>\n",
       "<table border=\"1\" class=\"dataframe\">\n",
       "  <thead>\n",
       "    <tr style=\"text-align: right;\">\n",
       "      <th></th>\n",
       "      <th>title</th>\n",
       "      <th>rating</th>\n",
       "    </tr>\n",
       "  </thead>\n",
       "  <tbody>\n",
       "    <tr>\n",
       "      <th>30758</th>\n",
       "      <td>Star Trek: First Contact (1996)</td>\n",
       "      <td>5.0</td>\n",
       "    </tr>\n",
       "    <tr>\n",
       "      <th>1553</th>\n",
       "      <td>Twelve Monkeys (a.k.a. 12 Monkeys) (1995)</td>\n",
       "      <td>5.0</td>\n",
       "    </tr>\n",
       "    <tr>\n",
       "      <th>3943</th>\n",
       "      <td>Birdcage, The (1996)</td>\n",
       "      <td>5.0</td>\n",
       "    </tr>\n",
       "    <tr>\n",
       "      <th>17772</th>\n",
       "      <td>Mission: Impossible (1996)</td>\n",
       "      <td>4.0</td>\n",
       "    </tr>\n",
       "    <tr>\n",
       "      <th>462</th>\n",
       "      <td>Heat (1995)</td>\n",
       "      <td>4.0</td>\n",
       "    </tr>\n",
       "    <tr>\n",
       "      <th>1339</th>\n",
       "      <td>Leaving Las Vegas (1995)</td>\n",
       "      <td>4.0</td>\n",
       "    </tr>\n",
       "    <tr>\n",
       "      <th>1842</th>\n",
       "      <td>Dead Man Walking (1995)</td>\n",
       "      <td>4.0</td>\n",
       "    </tr>\n",
       "    <tr>\n",
       "      <th>2617</th>\n",
       "      <td>Mighty Aphrodite (1995)</td>\n",
       "      <td>4.0</td>\n",
       "    </tr>\n",
       "    <tr>\n",
       "      <th>19818</th>\n",
       "      <td>Time to Kill, A (1996)</td>\n",
       "      <td>4.0</td>\n",
       "    </tr>\n",
       "    <tr>\n",
       "      <th>19228</th>\n",
       "      <td>Independence Day (a.k.a. ID4) (1996)</td>\n",
       "      <td>4.0</td>\n",
       "    </tr>\n",
       "  </tbody>\n",
       "</table>\n",
       "</div>"
      ],
      "text/plain": [
       "                                           title  rating\n",
       "30758            Star Trek: First Contact (1996)     5.0\n",
       "1553   Twelve Monkeys (a.k.a. 12 Monkeys) (1995)     5.0\n",
       "3943                        Birdcage, The (1996)     5.0\n",
       "17772                 Mission: Impossible (1996)     4.0\n",
       "462                                  Heat (1995)     4.0\n",
       "1339                    Leaving Las Vegas (1995)     4.0\n",
       "1842                     Dead Man Walking (1995)     4.0\n",
       "2617                     Mighty Aphrodite (1995)     4.0\n",
       "19818                     Time to Kill, A (1996)     4.0\n",
       "19228       Independence Day (a.k.a. ID4) (1996)     4.0"
      ]
     },
     "execution_count": 106,
     "metadata": {},
     "output_type": "execute_result"
    }
   ],
   "source": [
    "# Check the actual rating by user 150\n",
    "actual_top10(150, master)"
   ]
  },
  {
   "cell_type": "code",
   "execution_count": null,
   "metadata": {},
   "outputs": [],
   "source": []
  },
  {
   "cell_type": "code",
   "execution_count": 59,
   "metadata": {},
   "outputs": [
    {
     "data": {
      "text/plain": [
       "9719"
      ]
     },
     "execution_count": 59,
     "metadata": {},
     "output_type": "execute_result"
    }
   ],
   "source": [
    "# In total, 9719 movies \n",
    "len(master['title'].unique())\n"
   ]
  },
  {
   "cell_type": "code",
   "execution_count": 62,
   "metadata": {},
   "outputs": [
    {
     "data": {
      "text/plain": [
       "310"
      ]
     },
     "execution_count": 62,
     "metadata": {},
     "output_type": "execute_result"
    }
   ],
   "source": [
    "# number of movies id 50 rated \n",
    "len(master.loc[master['userId']==50, 'title'].unique())"
   ]
  },
  {
   "cell_type": "code",
   "execution_count": 63,
   "metadata": {},
   "outputs": [
    {
     "data": {
      "text/plain": [
       "148"
      ]
     },
     "execution_count": 63,
     "metadata": {},
     "output_type": "execute_result"
    }
   ],
   "source": [
    "# number of movies id 100 rated \n",
    "len(master.loc[master['userId']==100, 'title'].unique())"
   ]
  },
  {
   "cell_type": "code",
   "execution_count": 64,
   "metadata": {},
   "outputs": [
    {
     "data": {
      "text/plain": [
       "26"
      ]
     },
     "execution_count": 64,
     "metadata": {},
     "output_type": "execute_result"
    }
   ],
   "source": [
    "# number of movies id 150 rated \n",
    "len(master.loc[master['userId']==150, 'title'].unique())"
   ]
  },
  {
   "cell_type": "code",
   "execution_count": null,
   "metadata": {},
   "outputs": [],
   "source": []
  }
 ],
 "metadata": {
  "kernelspec": {
   "display_name": "Python (learn-env)",
   "language": "python",
   "name": "learn-env"
  },
  "language_info": {
   "codemirror_mode": {
    "name": "ipython",
    "version": 3
   },
   "file_extension": ".py",
   "mimetype": "text/x-python",
   "name": "python",
   "nbconvert_exporter": "python",
   "pygments_lexer": "ipython3",
   "version": "3.8.5"
  }
 },
 "nbformat": 4,
 "nbformat_minor": 4
}
